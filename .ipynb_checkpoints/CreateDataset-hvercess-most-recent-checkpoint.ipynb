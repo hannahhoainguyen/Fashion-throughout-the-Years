{
 "cells": [
  {
   "cell_type": "markdown",
   "metadata": {},
   "source": [
    "# Final Project\n",
    "### Halina Vercessi-Clarke and Hannah Nguyen"
   ]
  },
  {
   "cell_type": "markdown",
   "metadata": {},
   "source": []
  },
  {
   "cell_type": "code",
   "execution_count": 2,
   "metadata": {},
   "outputs": [
    {
     "name": "stdout",
     "output_type": "stream",
     "text": [
      "WARNING:tensorflow:From <ipython-input-2-5327e8dfb448>:7: experimental_run_functions_eagerly (from tensorflow.python.eager.def_function) is deprecated and will be removed in a future version.\n",
      "Instructions for updating:\n",
      "Use `tf.config.run_functions_eagerly` instead of the experimental version.\n"
     ]
    }
   ],
   "source": [
    "#importing the libraries\n",
    "import os \n",
    "import cv2\n",
    "import numpy as np\n",
    "from skimage import io\n",
    "import tensorflow as tf\n",
    "tf.config.experimental_run_functions_eagerly(True)\n",
    "import matplotlib.pyplot as plt\n",
    "%matplotlib inline\n",
    "import math\n",
    "import pathlib\n",
    "from tensorflow.keras import layers\n",
    "from tensorflow.keras.utils import to_categorical\n",
    "from tensorflow.keras import regularizers"
   ]
  },
  {
   "cell_type": "code",
   "execution_count": 3,
   "metadata": {},
   "outputs": [],
   "source": [
    "#importing scikit learning modules\n",
    "from sklearn.model_selection import train_test_split\n",
    "from sklearn.svm import SVC\n",
    "from sklearn.model_selection import GridSearchCV\n",
    "from sklearn.tree import DecisionTreeClassifier\n",
    "from sklearn.ensemble import RandomForestClassifier\n",
    "\n",
    "from sklearn.model_selection import train_test_split\n",
    "from sklearn.decomposition import PCA\n",
    "from sklearn.metrics import accuracy_score\n",
    "\n",
    "from data.data_utils import plot_decision_boundary, sigmoid, load_planar_dataset, load_extra_datasets\n",
    "\n",
    "from sklearn.linear_model import LogisticRegression\n",
    "from sklearn.model_selection import cross_val_score\n",
    "from sklearn.metrics import accuracy_score"
   ]
  },
  {
   "cell_type": "code",
   "execution_count": 3,
   "metadata": {},
   "outputs": [],
   "source": [
    "# Important: Use seed of 0\n",
    "np.random.seed(0)"
   ]
  },
  {
   "cell_type": "code",
   "execution_count": 31,
   "metadata": {},
   "outputs": [],
   "source": [
    "\n",
    "# file_path = 'C:/Users/Halina/Documents/GitHub/Fashion-throughout-the-Years/images'\n",
    "file_path = os.getcwd() + '\\imagesUPDATED-Dresses'\n",
    "data = [] \n",
    "labels = []\n",
    "i = 0\n",
    "label_names = os.listdir(file_path)\n",
    "classes = []\n",
    "\n",
    "for root, dirs, files in os.walk(file_path):\n",
    "    #print(dirs)\n",
    "    path = str(root).replace(str(chr(92)), \"/\")\n",
    "    go = False\n",
    "    if 'dresses' in path:\n",
    "        go = True\n",
    "    if (path.split(\"/\")[-1]!='imagesUPDATED-Dresses') and (go == True):\n",
    "\n",
    "        classes.append([label_names[i].split(\" \")[0]])\n",
    "        #print(path)\n",
    "        #print(\"\\n\")\n",
    "        for img in os.listdir(path):\n",
    "            #print(img)\n",
    "            pic = cv2.imread(os.path.join(path,img), cv2.IMREAD_GRAYSCALE)\n",
    "            thresh = 128\n",
    "            img_binary = cv2.threshold(pic, thresh, 255, cv2.THRESH_BINARY)[1]\n",
    "            img = cv2.resize(img_binary,(80,80))\n",
    "            \n",
    "            data.append(img)\n",
    "\n",
    "            labels.append([i])\n",
    "        i+=1\n"
   ]
  },
  {
   "cell_type": "code",
   "execution_count": 32,
   "metadata": {},
   "outputs": [
    {
     "name": "stdout",
     "output_type": "stream",
     "text": [
      "31\n"
     ]
    }
   ],
   "source": [
    "print(len(classes))\n",
    "#classes"
   ]
  },
  {
   "cell_type": "code",
   "execution_count": 7,
   "metadata": {},
   "outputs": [
    {
     "name": "stdout",
     "output_type": "stream",
     "text": [
      "706\n"
     ]
    },
    {
     "data": {
      "text/plain": [
       "[[0], [0], [0], [0], [0], [0], [0], [0]]"
      ]
     },
     "execution_count": 7,
     "metadata": {},
     "output_type": "execute_result"
    }
   ],
   "source": [
    "print(len(labels))\n",
    "labels[0:8]"
   ]
  },
  {
   "cell_type": "code",
   "execution_count": 8,
   "metadata": {},
   "outputs": [],
   "source": [
    "data = np.asarray(data)\n",
    "labels = np.asarray(labels)\n",
    "#print(data[344])\n",
    "#print(labels[344])\n",
    "#data[0].flatten()"
   ]
  },
  {
   "cell_type": "code",
   "execution_count": 9,
   "metadata": {},
   "outputs": [
    {
     "name": "stdout",
     "output_type": "stream",
     "text": [
      "(80, 80)\n",
      "(706, 80, 80)\n"
     ]
    }
   ],
   "source": [
    "print(data[344].shape)\n",
    "#plt.imshow(saved[0].reshape(80,80,3))\n",
    "print(data.shape)"
   ]
  },
  {
   "cell_type": "code",
   "execution_count": 10,
   "metadata": {},
   "outputs": [],
   "source": [
    "#plt.imshow(data[350].reshape(80, 80))"
   ]
  },
  {
   "cell_type": "code",
   "execution_count": 11,
   "metadata": {},
   "outputs": [],
   "source": [
    "# Split the dataset\n",
    "train_images, test_images, train_labels, test_labels = train_test_split(data, labels, test_size = 0.25, random_state = 0)"
   ]
  },
  {
   "cell_type": "code",
   "execution_count": 12,
   "metadata": {},
   "outputs": [
    {
     "data": {
      "text/plain": [
       "(529, 80, 80)"
      ]
     },
     "execution_count": 12,
     "metadata": {},
     "output_type": "execute_result"
    }
   ],
   "source": [
    "train_images.shape"
   ]
  },
  {
   "cell_type": "code",
   "execution_count": 13,
   "metadata": {},
   "outputs": [
    {
     "data": {
      "text/plain": [
       "(177, 80, 80)"
      ]
     },
     "execution_count": 13,
     "metadata": {},
     "output_type": "execute_result"
    }
   ],
   "source": [
    "test_images.shape"
   ]
  },
  {
   "cell_type": "code",
   "execution_count": 14,
   "metadata": {},
   "outputs": [
    {
     "data": {
      "text/plain": [
       "(529, 1)"
      ]
     },
     "execution_count": 14,
     "metadata": {},
     "output_type": "execute_result"
    }
   ],
   "source": [
    "train_labels.shape"
   ]
  },
  {
   "cell_type": "code",
   "execution_count": 15,
   "metadata": {},
   "outputs": [
    {
     "data": {
      "text/plain": [
       "(177, 1)"
      ]
     },
     "execution_count": 15,
     "metadata": {},
     "output_type": "execute_result"
    }
   ],
   "source": [
    "test_labels.shape"
   ]
  },
  {
   "cell_type": "code",
   "execution_count": 16,
   "metadata": {},
   "outputs": [],
   "source": [
    "# plt.figure()\n",
    "# plt.imshow(train_images[0])\n",
    "# plt.colorbar()\n",
    "# plt.grid(False)\n",
    "# plt.show()\n"
   ]
  },
  {
   "cell_type": "code",
   "execution_count": 17,
   "metadata": {},
   "outputs": [
    {
     "name": "stdout",
     "output_type": "stream",
     "text": [
      "[[1.         1.         1.         ... 0.         0.         0.        ]\n",
      " [1.         1.         1.         ... 0.         0.         0.        ]\n",
      " [1.         1.         1.         ... 0.         0.         0.        ]\n",
      " ...\n",
      " [0.         0.         0.         ... 0.         0.         0.        ]\n",
      " [0.10588235 0.         0.47058824 ... 0.         0.         0.        ]\n",
      " [0.         0.31764706 0.         ... 0.         0.         0.        ]]\n",
      "(529, 80, 80)\n"
     ]
    }
   ],
   "source": [
    "train_images_norm = np.asarray(train_images / 255.0)\n",
    "test_images_norm = np.asarray(test_images / 255.0)\n",
    "print(train_images_norm[2])\n",
    "print(train_images_norm.shape)"
   ]
  },
  {
   "cell_type": "code",
   "execution_count": 18,
   "metadata": {},
   "outputs": [],
   "source": [
    "# plt.figure(figsize=(10,10))\n",
    "# for i in range(25):\n",
    "#     plt.subplot(5,5,i+1)\n",
    "#     plt.xticks([])\n",
    "#     plt.yticks([])\n",
    "#     plt.grid(False)\n",
    "#     plt.imshow(train_images[i], cmap=plt.cm.binary)\n",
    "#     plt.xlabel(classes[int(train_labels[i][0])][0])\n",
    "# plt.show()\n"
   ]
  },
  {
   "cell_type": "code",
   "execution_count": 19,
   "metadata": {},
   "outputs": [
    {
     "name": "stdout",
     "output_type": "stream",
     "text": [
      "(31,)\n"
     ]
    }
   ],
   "source": [
    "from keras.utils import np_utils \n",
    "train_labels_1hot = np_utils.to_categorical(train_labels)\n",
    "test_labels_1hot = np_utils.to_categorical(test_labels)\n",
    "print(train_labels_1hot[2].shape)\n"
   ]
  },
  {
   "cell_type": "code",
   "execution_count": 20,
   "metadata": {},
   "outputs": [],
   "source": [
    "# model = tf.keras.Sequential()\n",
    "# model.add(tf.keras.layers.Conv2D(32, (5, 5), activation='relu', input_shape=(80,80,3)))\n",
    "# model.add(tf.keras.layers.MaxPooling2D(pool_size=(2, 2)))\n",
    "# model.add(tf.keras.layers.Conv2D(64, (5, 5), activation='relu'))\n",
    "# model.add(tf.keras.layers.MaxPooling2D(pool_size=(2, 2)))\n",
    "# model.add(tf.keras.layers.Flatten())\n",
    "# model.add(tf.keras.layers.Dense(1000, activation='relu'))\n",
    "# model.add(tf.keras.layers.Dropout(0.5))\n",
    "# model.add(tf.keras.layers.Dense(500, activation='relu'))\n",
    "# model.add(tf.keras.layers.Dropout(0.5))\n",
    "# model.add(tf.keras.layers.Dense(250, activation='relu'))\n",
    "# model.add(tf.keras.layers.Dense(87, activation='softmax'))\n",
    "\n",
    "model2 = tf.keras.Sequential([\n",
    "  layers.Conv2D(32, (3,3), activation='relu', kernel_regularizer=regularizers.l2(0.001), input_shape=(80,80,1)),\n",
    "  layers.Conv2D(64, (3,3), activation='relu', kernel_regularizer=regularizers.l2(0.001)),\n",
    "  layers.MaxPooling2D((2, 2)),\n",
    "  layers.Flatten(),\n",
    "  layers.Dense(128, activation='relu', kernel_regularizer=regularizers.l2(0.001)),\n",
    "  #layers.Dropout(0.5), \n",
    "  #layers.Dense(75, activation='relu', kernel_regularizer=regularizers.l2(0.001)),\n",
    "  layers.Dense(31, activation='softmax')\n",
    "])\n"
   ]
  },
  {
   "cell_type": "markdown",
   "metadata": {},
   "source": [
    "model = Sequential([  layers.experimental.preprocessing.Rescaling(1./255, input_shape=(img_height, img_width, 3)),  layers.Conv2D(16, 3, padding='same', activation='relu'),  layers.MaxPooling2D(),  layers.Conv2D(32, 3, padding='same', activation='relu'),  layers.MaxPooling2D(),  layers.Conv2D(64, 3, padding='same', activation='relu'),  layers.MaxPooling2D(),  layers.Flatten(),  layers.Dense(128, activation='relu'),  layers.Dense(num_classes)])\n",
    "\n"
   ]
  },
  {
   "cell_type": "code",
   "execution_count": 21,
   "metadata": {},
   "outputs": [],
   "source": [
    "model2.compile(loss = 'categorical_crossentropy',\n",
    "              optimizer='adam',\n",
    "              metrics=['accuracy'])"
   ]
  },
  {
   "cell_type": "code",
   "execution_count": 22,
   "metadata": {},
   "outputs": [
    {
     "name": "stdout",
     "output_type": "stream",
     "text": [
      "Model: \"sequential\"\n",
      "_________________________________________________________________\n",
      "Layer (type)                 Output Shape              Param #   \n",
      "=================================================================\n",
      "conv2d (Conv2D)              (None, 78, 78, 32)        320       \n",
      "_________________________________________________________________\n",
      "conv2d_1 (Conv2D)            (None, 76, 76, 64)        18496     \n",
      "_________________________________________________________________\n",
      "max_pooling2d (MaxPooling2D) (None, 38, 38, 64)        0         \n",
      "_________________________________________________________________\n",
      "flatten (Flatten)            (None, 92416)             0         \n",
      "_________________________________________________________________\n",
      "dense (Dense)                (None, 128)               11829376  \n",
      "_________________________________________________________________\n",
      "dense_1 (Dense)              (None, 31)                3999      \n",
      "=================================================================\n",
      "Total params: 11,852,191\n",
      "Trainable params: 11,852,191\n",
      "Non-trainable params: 0\n",
      "_________________________________________________________________\n",
      "None\n"
     ]
    }
   ],
   "source": [
    "print(model2.summary())"
   ]
  },
  {
   "cell_type": "code",
   "execution_count": 23,
   "metadata": {},
   "outputs": [
    {
     "name": "stderr",
     "output_type": "stream",
     "text": [
      "C:\\Users\\18025\\anaconda3\\envs\\tensorflow\\lib\\site-packages\\tensorflow\\python\\data\\ops\\dataset_ops.py:3349: UserWarning: Even though the tf.config.experimental_run_functions_eagerly option is set, this option does not apply to tf.data functions. tf.data functions are still traced and executed as graphs.\n",
      "  warnings.warn(\n"
     ]
    },
    {
     "name": "stdout",
     "output_type": "stream",
     "text": [
      "Epoch 1/15\n",
      "265/265 [==============================] - 57s 216ms/step - loss: 3.6925 - accuracy: 0.1474 - val_loss: 3.3000 - val_accuracy: 0.2542\n",
      "Epoch 2/15\n",
      "265/265 [==============================] - 57s 214ms/step - loss: 2.4484 - accuracy: 0.5501 - val_loss: 3.0882 - val_accuracy: 0.4520\n",
      "Epoch 3/15\n",
      "265/265 [==============================] - 55s 207ms/step - loss: 1.0533 - accuracy: 0.9414 - val_loss: 3.0491 - val_accuracy: 0.4633\n",
      "Epoch 4/15\n",
      "265/265 [==============================] - 55s 208ms/step - loss: 0.8287 - accuracy: 0.9509 - val_loss: 2.8423 - val_accuracy: 0.4407\n",
      "Epoch 5/15\n",
      "265/265 [==============================] - 54s 204ms/step - loss: 0.6662 - accuracy: 0.9584 - val_loss: 2.8084 - val_accuracy: 0.4463\n",
      "Epoch 6/15\n",
      "265/265 [==============================] - 54s 205ms/step - loss: 0.5680 - accuracy: 0.9565 - val_loss: 2.7730 - val_accuracy: 0.4520\n",
      "Epoch 7/15\n",
      "265/265 [==============================] - 56s 211ms/step - loss: 0.5246 - accuracy: 0.9641 - val_loss: 2.8946 - val_accuracy: 0.4520\n",
      "Epoch 8/15\n",
      "265/265 [==============================] - 55s 208ms/step - loss: 0.5898 - accuracy: 0.9527 - val_loss: 2.7766 - val_accuracy: 0.4689\n",
      "Epoch 9/15\n",
      "265/265 [==============================] - 55s 209ms/step - loss: 0.5106 - accuracy: 0.9490 - val_loss: 3.0985 - val_accuracy: 0.4350\n",
      "Epoch 10/15\n",
      "265/265 [==============================] - 55s 208ms/step - loss: 0.5249 - accuracy: 0.9490 - val_loss: 3.1007 - val_accuracy: 0.4463\n",
      "Epoch 11/15\n",
      "265/265 [==============================] - 55s 209ms/step - loss: 0.5619 - accuracy: 0.9565 - val_loss: 3.0544 - val_accuracy: 0.4407\n",
      "Epoch 12/15\n",
      "265/265 [==============================] - 55s 209ms/step - loss: 0.4963 - accuracy: 0.9527 - val_loss: 3.1556 - val_accuracy: 0.4294\n",
      "Epoch 13/15\n",
      "265/265 [==============================] - 59s 223ms/step - loss: 0.4969 - accuracy: 0.9490 - val_loss: 2.7044 - val_accuracy: 0.4520\n",
      "Epoch 14/15\n",
      "265/265 [==============================] - 95s 357ms/step - loss: 0.3813 - accuracy: 0.9471 - val_loss: 2.4830 - val_accuracy: 0.4633\n",
      "Epoch 15/15\n",
      "265/265 [==============================] - 94s 355ms/step - loss: 0.3277 - accuracy: 0.9622 - val_loss: 2.4750 - val_accuracy: 0.4463\n"
     ]
    }
   ],
   "source": [
    "hist_model2 = model2.fit(train_images_norm, train_labels_1hot, validation_data=(test_images_norm, test_labels_1hot), batch_size=2, epochs=15)"
   ]
  },
  {
   "cell_type": "code",
   "execution_count": 24,
   "metadata": {},
   "outputs": [
    {
     "data": {
      "image/png": "[encoded data removed]",
      "text/plain": [
       "<Figure size 432x288 with 1 Axes>"
      ]
     },
     "metadata": {
      "needs_background": "light"
     },
     "output_type": "display_data"
    }
   ],
   "source": [
    "#Visualize the models accuracy\n",
    "plt.plot(hist_model2.history['accuracy'])\n",
    "plt.plot(hist_model2.history['val_accuracy'])\n",
    "plt.title('Model accuracy')\n",
    "plt.ylabel('Accuracy')\n",
    "plt.xlabel('Epoch')\n",
    "plt.yticks(np.arange(0, 1.2, .1))\n",
    "plt.legend(['Train', 'Val'], loc='upper left')\n",
    "plt.show()"
   ]
  },
  {
   "cell_type": "code",
   "execution_count": 150,
   "metadata": {},
   "outputs": [],
   "source": [
    "#model2.evaluate(test_images, test_labels, batch_size=1)"
   ]
  },
  {
   "cell_type": "code",
   "execution_count": null,
   "metadata": {},
   "outputs": [],
   "source": [
    "# Predictions on unseen images"
   ]
  },
  {
   "cell_type": "code",
   "execution_count": 33,
   "metadata": {},
   "outputs": [],
   "source": [
    "file_path2 = os.getcwd() + '\\prediction_Images2020'\n",
    "data_2020 = [] \n",
    "labels_2020 = []\n",
    "i = 0\n",
    "label_names_2020 = os.listdir(file_path2)\n",
    "classes_2020 = []\n",
    "\n",
    "for root, dirs, files in os.walk(file_path2):\n",
    "    path = str(root).replace(str(chr(92)), \"/\")\n",
    "    go = False\n",
    "    if '2020' in path:\n",
    "        go = True\n",
    "    if (path.split(\"/\")[-1]!='prediction_Images2020') and (go == True):\n",
    "\n",
    "        classes_2020.append([label_names_2020[i]])\n",
    "        for img in os.listdir(path):\n",
    "            pic = cv2.imread(os.path.join(path,img), cv2.IMREAD_GRAYSCALE)\n",
    "            thresh = 128\n",
    "            img_binary = cv2.threshold(pic, thresh, 255, cv2.THRESH_BINARY)[1]\n",
    "            img = cv2.resize(img_binary,(80,80))\n",
    "            \n",
    "            data_2020.append(img/255.0)\n",
    "\n",
    "            labels_2020.append([i])\n",
    "        i+=1\n"
   ]
  },
  {
   "cell_type": "code",
   "execution_count": 34,
   "metadata": {},
   "outputs": [],
   "source": [
    "\n",
    "data_2020 = np.asarray(data_2020)\n",
    "data_2020_norm = np.asarray(data_2020/255.0)\n",
    "\n",
    "labels_2020 = np.asarray(labels)"
   ]
  },
  {
   "cell_type": "code",
   "execution_count": 35,
   "metadata": {},
   "outputs": [],
   "source": [
    "probability_model = tf.keras.Sequential([model2, \n",
    "                                         tf.keras.layers.Softmax()])\n",
    "# Try with images it's already seen to test display...\n",
    "predictions = probability_model.predict(train_images_norm)"
   ]
  },
  {
   "cell_type": "code",
   "execution_count": 36,
   "metadata": {},
   "outputs": [
    {
     "name": "stdout",
     "output_type": "stream",
     "text": [
      "[0.03060004 0.03062942 0.03058598 0.03061294 0.0305906  0.03059887\n",
      " 0.03059595 0.0306035  0.03059471 0.03058972 0.03066359 0.03058554\n",
      " 0.08217078 0.03059037 0.03058917 0.03059382 0.0305968  0.0305889\n",
      " 0.03059498 0.03058341 0.03058317 0.03059436 0.03058295 0.03058562\n",
      " 0.03058759 0.03058312 0.03058564 0.03058273 0.03058305 0.03058971\n",
      " 0.03058308]\n",
      "12\n",
      "1930\n"
     ]
    },
    {
     "data": {
      "image/png": "[encoded data removed]",
      "text/plain": [
       "<Figure size 432x288 with 1 Axes>"
      ]
     },
     "metadata": {
      "needs_background": "light"
     },
     "output_type": "display_data"
    }
   ],
   "source": [
    "plt.imshow(train_images_norm[30], cmap=plt.cm.binary)\n",
    "print(predictions[30])\n",
    "print(np.argmax(predictions[30]))\n",
    "print(classes[np.argmax(predictions[30])][0])"
   ]
  },
  {
   "cell_type": "code",
   "execution_count": 39,
   "metadata": {},
   "outputs": [
    {
     "data": {
      "image/png": "[encoded data removed]",
      "text/plain": [
       "<Figure size 43200x12960 with 6 Axes>"
      ]
     },
     "metadata": {
      "needs_background": "light"
     },
     "output_type": "display_data"
    }
   ],
   "source": [
    "rows = 30\n",
    "cols = 30\n",
    "num_images = rows*cols\n",
    "plt.figure(figsize=(10*2*cols, 6*rows))\n",
    "for i in range(10, 13):\n",
    "    plt.subplot(rows, 2*cols, 2*i+1)\n",
    "    plt.xticks([])\n",
    "    plt.yticks([])\n",
    "    plt.imshow(data_2020_norm[i], cmap=plt.cm.binary)\n",
    "    \n",
    "    plt.subplot(rows, 2*cols, 2*i+2)\n",
    "    plt.xticks(range(31))\n",
    "    plt.yticks([])\n",
    "    plt.bar(range(31), 10*predictions[i])\n",
    "    #plt.ylim([0, 1])\n",
    "\n",
    "plt.show()"
   ]
  },
  {
   "cell_type": "code",
   "execution_count": null,
   "metadata": {},
   "outputs": [],
   "source": []
  },
  {
   "cell_type": "code",
   "execution_count": null,
   "metadata": {},
   "outputs": [],
   "source": []
  },
  {
   "cell_type": "code",
   "execution_count": null,
   "metadata": {},
   "outputs": [],
   "source": []
  },
  {
   "cell_type": "code",
   "execution_count": 108,
   "metadata": {},
   "outputs": [],
   "source": [
    "# PCA Model using SVC"
   ]
  },
  {
   "cell_type": "code",
   "execution_count": null,
   "metadata": {},
   "outputs": [],
   "source": [
    "train_images.flatten()\n",
    "test_images.flatten()"
   ]
  },
  {
   "cell_type": "code",
   "execution_count": 61,
   "metadata": {},
   "outputs": [],
   "source": [
    "# Preprocess all images in data array\n",
    "def vectorize_images(images):\n",
    "    img_array = []\n",
    "    for img in images:\n",
    "        #img = np.asmatrix(img)\n",
    "        img = img.flatten()/255.0\n",
    "        img_array.append(img)\n",
    "    \n",
    "    return img_array\n",
    "\n",
    "images_vectorized = vectorize_images(data)"
   ]
  },
  {
   "cell_type": "code",
   "execution_count": 62,
   "metadata": {},
   "outputs": [
    {
     "name": "stdout",
     "output_type": "stream",
     "text": [
      "[array([1., 1., 1., ..., 0., 0., 0.]), array([1.        , 1.        , 1.        , ..., 0.82745098, 0.18823529,\n",
      "       0.        ]), array([0., 0., 0., ..., 0., 0., 0.]), array([0., 0., 0., ..., 1., 1., 1.]), array([0., 0., 0., ..., 0., 0., 0.]), array([1., 1., 1., ..., 1., 1., 1.]), array([0., 0., 0., ..., 1., 1., 1.]), array([0., 0., 0., ..., 0., 0., 0.]), array([0., 0., 0., ..., 0., 0., 0.]), array([1., 1., 1., ..., 1., 1., 1.]), array([1., 1., 1., ..., 0., 0., 0.]), array([0., 0., 0., ..., 1., 1., 1.]), array([1., 1., 1., ..., 0., 0., 0.]), array([1., 1., 1., ..., 1., 1., 1.]), array([1., 1., 1., ..., 1., 1., 1.]), array([1., 1., 1., ..., 0., 0., 0.]), array([0., 0., 0., ..., 1., 1., 1.]), array([1., 1., 1., ..., 1., 1., 1.]), array([0., 0., 0., ..., 1., 1., 1.]), array([0., 0., 0., ..., 0., 0., 0.]), array([0., 0., 0., ..., 0., 0., 0.]), array([0., 0., 0., ..., 0., 0., 0.]), array([0., 0., 0., ..., 0., 0., 0.]), array([0., 0., 0., ..., 0., 0., 0.]), array([1., 1., 1., ..., 1., 1., 1.]), array([0., 0., 0., ..., 0., 0., 0.]), array([0., 0., 0., ..., 1., 1., 1.]), array([0., 0., 0., ..., 0., 0., 0.]), array([1., 1., 1., ..., 0., 0., 0.]), array([0., 0., 0., ..., 0., 0., 0.]), array([1., 1., 1., ..., 0., 0., 0.]), array([0., 0., 0., ..., 0., 0., 0.]), array([1., 1., 1., ..., 1., 1., 1.]), array([0., 0., 0., ..., 1., 1., 1.]), array([0., 0., 0., ..., 1., 1., 1.]), array([1., 1., 1., ..., 0., 0., 0.]), array([1., 1., 1., ..., 0., 0., 0.]), array([0., 0., 0., ..., 1., 1., 1.]), array([1., 1., 1., ..., 0., 0., 0.]), array([1., 1., 1., ..., 1., 1., 1.]), array([0., 0., 0., ..., 1., 1., 1.]), array([1., 1., 1., ..., 1., 1., 1.]), array([0., 0., 0., ..., 0., 0., 0.]), array([1., 1., 1., ..., 1., 1., 1.]), array([1., 1., 1., ..., 0., 0., 0.]), array([1., 0., 0., ..., 0., 0., 0.]), array([0., 0., 0., ..., 0., 0., 0.]), array([0., 0., 0., ..., 1., 1., 1.]), array([0., 0., 0., ..., 1., 1., 1.]), array([0., 0., 0., ..., 0., 0., 0.]), array([0.        , 0.        , 0.        , ..., 1.        , 1.        ,\n",
      "       0.09411765]), array([0., 0., 0., ..., 0., 0., 0.]), array([0., 0., 0., ..., 0., 0., 0.]), array([0., 0., 0., ..., 0., 0., 0.]), array([1., 1., 1., ..., 1., 1., 1.]), array([0., 0., 0., ..., 0., 0., 0.]), array([1.        , 1.        , 1.        , ..., 0.28235294, 0.        ,\n",
      "       0.        ]), array([0., 0., 0., ..., 0., 0., 0.]), array([0.        , 0.        , 0.        , ..., 0.13333333, 0.        ,\n",
      "       0.        ]), array([1., 1., 1., ..., 1., 1., 1.]), array([0.        , 0.        , 0.        , ..., 0.        , 0.        ,\n",
      "       0.50588235]), array([1., 1., 1., ..., 1., 1., 1.]), array([0., 0., 0., ..., 0., 0., 0.]), array([0., 0., 0., ..., 0., 0., 0.]), array([1., 1., 1., ..., 1., 1., 1.]), array([0., 0., 0., ..., 1., 1., 1.]), array([0.        , 0.        , 0.        , ..., 0.        , 0.        ,\n",
      "       0.50588235]), array([1., 0., 0., ..., 0., 0., 0.]), array([0., 0., 0., ..., 0., 0., 0.]), array([0., 0., 0., ..., 0., 0., 0.]), array([1.        , 1.        , 1.        , ..., 0.59215686, 0.23921569,\n",
      "       0.        ]), array([0., 0., 0., ..., 0., 0., 0.]), array([1., 1., 1., ..., 1., 1., 1.]), array([1.        , 1.        , 1.        , ..., 0.28235294, 0.        ,\n",
      "       0.        ]), array([0.        , 0.        , 0.        , ..., 0.13333333, 0.        ,\n",
      "       0.        ]), array([0., 0., 0., ..., 0., 0., 0.]), array([1., 1., 1., ..., 1., 1., 1.]), array([1.        , 1.        , 1.        , ..., 0.59215686, 0.23921569,\n",
      "       0.        ]), array([0., 0., 0., ..., 1., 1., 1.]), array([0., 0., 0., ..., 0., 0., 0.]), array([0., 0., 0., ..., 0., 0., 0.]), array([0., 0., 0., ..., 0., 0., 0.]), array([1.        , 1.        , 1.        , ..., 0.28235294, 0.        ,\n",
      "       0.        ]), array([1., 1., 1., ..., 1., 1., 1.]), array([0.        , 0.        , 0.        , ..., 0.13333333, 0.        ,\n",
      "       0.        ]), array([0., 0., 0., ..., 0., 0., 0.]), array([0., 0., 0., ..., 1., 1., 1.]), array([0., 0., 0., ..., 0., 0., 0.]), array([0., 0., 0., ..., 0., 0., 0.]), array([1., 1., 1., ..., 1., 1., 1.]), array([0., 0., 0., ..., 1., 1., 1.]), array([1., 1., 1., ..., 1., 1., 1.]), array([0., 0., 0., ..., 0., 0., 0.]), array([1., 1., 1., ..., 1., 1., 1.]), array([0., 0., 0., ..., 1., 1., 1.]), array([0., 0., 0., ..., 1., 1., 1.]), array([1., 1., 1., ..., 1., 1., 1.]), array([1., 1., 1., ..., 1., 1., 1.]), array([1., 1., 1., ..., 1., 1., 1.]), array([0., 0., 0., ..., 1., 1., 1.]), array([1., 1., 1., ..., 0., 0., 0.]), array([0., 0., 0., ..., 0., 0., 0.]), array([1., 1., 1., ..., 0., 0., 0.]), array([0., 0., 0., ..., 0., 0., 0.]), array([1., 1., 1., ..., 1., 1., 1.]), array([0., 0., 0., ..., 0., 0., 0.]), array([0., 0., 0., ..., 0., 0., 0.]), array([1., 1., 1., ..., 1., 1., 1.]), array([0., 0., 0., ..., 1., 1., 1.]), array([0., 0., 0., ..., 0., 0., 0.]), array([1., 1., 1., ..., 0., 0., 0.]), array([1., 1., 1., ..., 0., 0., 0.]), array([0., 0., 0., ..., 1., 1., 1.]), array([1., 1., 1., ..., 1., 1., 1.]), array([0.       , 0.       , 0.       , ..., 1.       , 0.8745098,\n",
      "       1.       ]), array([1., 1., 1., ..., 0., 0., 0.]), array([0., 0., 0., ..., 1., 1., 1.]), array([0., 0., 0., ..., 0., 0., 0.]), array([1., 1., 1., ..., 1., 1., 1.]), array([1., 1., 1., ..., 0., 0., 0.]), array([1., 1., 1., ..., 1., 1., 1.]), array([0., 0., 0., ..., 0., 0., 0.]), array([0., 0., 0., ..., 0., 0., 0.]), array([1., 1., 1., ..., 1., 1., 1.]), array([0., 0., 0., ..., 1., 1., 1.]), array([1., 1., 1., ..., 0., 0., 0.]), array([0.       , 0.       , 0.       , ..., 1.       , 0.8745098,\n",
      "       1.       ]), array([1., 1., 1., ..., 0., 0., 0.]), array([1., 1., 1., ..., 0., 0., 0.]), array([1., 1., 1., ..., 0., 0., 0.]), array([1., 1., 1., ..., 1., 1., 1.]), array([0., 0., 0., ..., 1., 1., 1.]), array([1., 1., 1., ..., 1., 1., 1.]), array([1., 1., 1., ..., 1., 1., 1.]), array([1., 1., 1., ..., 0., 0., 0.]), array([0.       , 0.       , 0.       , ..., 1.       , 0.8745098,\n",
      "       1.       ]), array([1., 1., 1., ..., 0., 0., 0.]), array([0., 0., 0., ..., 0., 0., 0.]), array([0., 0., 0., ..., 1., 1., 1.]), array([1.        , 1.        , 1.        , ..., 0.        , 0.        ,\n",
      "       0.42352941]), array([0., 0., 0., ..., 0., 0., 0.]), array([0., 0., 0., ..., 0., 0., 0.]), array([1., 1., 1., ..., 0., 0., 0.]), array([1., 1., 1., ..., 1., 1., 1.]), array([0., 0., 0., ..., 0., 0., 1.]), array([1., 1., 1., ..., 0., 0., 0.]), array([1., 1., 1., ..., 0., 0., 0.]), array([1., 1., 1., ..., 1., 1., 1.]), array([0., 0., 0., ..., 0., 0., 0.]), array([0., 0., 0., ..., 0., 0., 0.]), array([1., 1., 1., ..., 0., 0., 0.]), array([0., 0., 0., ..., 0., 0., 0.]), array([1., 1., 1., ..., 1., 1., 1.]), array([1., 1., 1., ..., 1., 1., 1.]), array([0., 0., 0., ..., 1., 1., 1.]), array([1., 1., 1., ..., 0., 0., 0.]), array([0., 0., 0., ..., 1., 1., 1.]), array([0., 0., 0., ..., 0., 0., 0.]), array([0., 0., 0., ..., 0., 0., 0.]), array([0., 0., 0., ..., 1., 1., 1.]), array([1., 1., 1., ..., 1., 1., 1.]), array([1., 1., 1., ..., 1., 1., 1.]), array([1., 1., 1., ..., 1., 1., 1.]), array([1., 1., 1., ..., 0., 0., 0.]), array([1., 1., 1., ..., 1., 1., 1.]), array([0., 0., 0., ..., 0., 0., 0.]), array([0., 0., 0., ..., 0., 0., 0.]), array([1., 1., 1., ..., 0., 0., 0.]), array([1.        , 1.        , 1.        , ..., 0.        , 0.        ,\n",
      "       0.42352941]), array([0., 0., 0., ..., 0., 0., 0.]), array([0., 0., 0., ..., 1., 1., 1.]), array([1., 1., 1., ..., 0., 0., 0.]), array([0., 0., 0., ..., 0., 0., 0.]), array([1.        , 1.        , 1.        , ..., 0.        , 0.        ,\n",
      "       0.42352941]), array([1., 1., 1., ..., 0., 0., 0.]), array([0., 0., 0., ..., 0., 0., 0.]), array([1., 1., 1., ..., 1., 1., 1.]), array([1., 1., 1., ..., 1., 1., 1.]), array([1., 1., 1., ..., 0., 0., 0.]), array([0.68627451, 0.12156863, 0.90588235, ..., 0.        , 0.        ,\n",
      "       0.        ]), array([1., 1., 1., ..., 1., 1., 1.]), array([0., 0., 0., ..., 1., 1., 1.]), array([0.        , 0.        , 0.        , ..., 0.27058824, 0.80784314,\n",
      "       0.99607843]), array([0., 0., 0., ..., 0., 1., 0.]), array([1., 1., 1., ..., 0., 0., 0.]), array([0., 0., 0., ..., 1., 1., 1.]), array([0.        , 0.        , 0.        , ..., 0.27058824, 0.80784314,\n",
      "       0.99607843]), array([1., 1., 1., ..., 1., 1., 1.]), array([1., 1., 1., ..., 1., 1., 1.]), array([0., 0., 0., ..., 0., 1., 0.]), array([0., 0., 0., ..., 0., 1., 0.]), array([0., 0., 0., ..., 0., 0., 0.]), array([0., 0., 0., ..., 0., 1., 0.]), array([0., 0., 0., ..., 1., 1., 1.]), array([1., 1., 1., ..., 1., 1., 1.]), array([1., 1., 1., ..., 1., 1., 1.]), array([1., 1., 1., ..., 1., 1., 1.]), array([0., 0., 0., ..., 1., 1., 1.]), array([1.        , 1.        , 1.        , ..., 0.        , 0.39607843,\n",
      "       0.        ]), array([1., 1., 1., ..., 1., 1., 1.]), array([0., 0., 0., ..., 1., 1., 1.]), array([1., 1., 1., ..., 1., 1., 1.]), array([0., 0., 0., ..., 0., 0., 0.]), array([1., 1., 1., ..., 1., 1., 1.]), array([1.        , 1.        , 1.        , ..., 0.56470588, 1.        ,\n",
      "       0.        ]), array([1., 1., 1., ..., 1., 1., 1.]), array([0., 0., 0., ..., 1., 1., 1.]), array([1., 1., 1., ..., 1., 1., 1.]), array([1., 1., 1., ..., 1., 1., 1.]), array([1., 1., 1., ..., 1., 1., 1.]), array([0., 0., 0., ..., 0., 0., 0.]), array([0., 0., 0., ..., 0., 0., 0.]), array([0., 0., 0., ..., 1., 1., 1.]), array([0., 0., 0., ..., 0., 0., 0.]), array([1., 1., 1., ..., 1., 1., 1.]), array([1., 1., 1., ..., 1., 1., 1.]), array([1., 1., 1., ..., 1., 1., 1.]), array([1., 1., 1., ..., 1., 1., 1.]), array([1., 1., 1., ..., 1., 1., 1.]), array([1., 1., 1., ..., 1., 1., 1.]), array([0., 0., 0., ..., 1., 1., 1.]), array([0.63921569, 0.01960784, 0.23921569, ..., 1.        , 1.        ,\n",
      "       1.        ]), array([0.        , 1.        , 1.        , ..., 0.08627451, 0.        ,\n",
      "       0.        ]), array([0.        , 0.24705882, 0.51372549, ..., 0.        , 0.        ,\n",
      "       0.        ]), array([1., 1., 1., ..., 1., 1., 1.]), array([1., 1., 1., ..., 1., 1., 1.]), array([1.        , 1.        , 1.        , ..., 0.        , 0.74901961,\n",
      "       0.25098039]), array([1.        , 1.        , 1.        , ..., 0.56470588, 1.        ,\n",
      "       0.        ]), array([0., 0., 0., ..., 0., 0., 0.]), array([0., 0., 0., ..., 1., 1., 1.]), array([0., 0., 0., ..., 0., 0., 0.]), array([0., 0., 0., ..., 1., 1., 1.]), array([0., 0., 0., ..., 1., 1., 1.]), array([0., 0., 0., ..., 1., 1., 1.]), array([1.        , 1.        , 1.        , ..., 0.42745098, 1.        ,\n",
      "       1.        ]), array([1., 1., 1., ..., 1., 1., 1.]), array([1., 1., 1., ..., 1., 1., 1.]), array([1., 1., 1., ..., 1., 1., 1.]), array([1., 1., 1., ..., 1., 1., 1.]), array([0., 0., 0., ..., 1., 1., 1.]), array([1.        , 1.        , 0.81176471, ..., 1.        , 1.        ,\n",
      "       1.        ]), array([1., 1., 1., ..., 1., 1., 1.]), array([1., 1., 1., ..., 1., 1., 1.]), array([1., 1., 1., ..., 1., 1., 1.]), array([1.        , 1.        , 0.81176471, ..., 1.        , 1.        ,\n",
      "       1.        ]), array([0., 0., 0., ..., 0., 0., 0.]), array([1., 1., 1., ..., 0., 0., 0.]), array([0., 0., 0., ..., 0., 0., 0.]), array([1., 1., 1., ..., 1., 1., 1.]), array([0., 0., 0., ..., 0., 0., 0.]), array([0., 0., 0., ..., 0., 0., 0.]), array([1., 1., 1., ..., 1., 1., 1.]), array([1., 1., 1., ..., 1., 1., 1.]), array([1., 1., 1., ..., 0., 0., 0.]), array([0., 0., 0., ..., 0., 0., 0.]), array([1., 1., 1., ..., 1., 1., 1.]), array([1., 1., 1., ..., 1., 1., 1.]), array([1., 1., 1., ..., 1., 1., 1.]), array([0., 0., 0., ..., 0., 0., 0.]), array([1., 1., 1., ..., 0., 0., 0.]), array([0., 0., 0., ..., 0., 0., 0.]), array([1., 1., 1., ..., 0., 0., 0.]), array([0.63921569, 0.01960784, 0.23921569, ..., 1.        , 1.        ,\n",
      "       1.        ]), array([1., 1., 1., ..., 1., 1., 1.]), array([0., 0., 0., ..., 0., 0., 0.]), array([1., 1., 1., ..., 1., 1., 1.]), array([0., 0., 0., ..., 0., 0., 0.]), array([1., 1., 1., ..., 1., 1., 1.]), array([1., 1., 1., ..., 0., 0., 0.]), array([1., 1., 1., ..., 0., 0., 0.]), array([1., 1., 1., ..., 1., 1., 1.]), array([0., 0., 0., ..., 0., 0., 0.]), array([0., 0., 0., ..., 0., 0., 0.]), array([1., 1., 1., ..., 1., 1., 1.]), array([0., 0., 0., ..., 0., 0., 0.]), array([1., 1., 1., ..., 1., 1., 1.]), array([0., 0., 0., ..., 0., 0., 0.]), array([0., 0., 0., ..., 0., 0., 0.]), array([1., 1., 1., ..., 1., 1., 1.]), array([1., 1., 1., ..., 1., 1., 1.]), array([1., 1., 1., ..., 1., 1., 1.]), array([0., 0., 0., ..., 0., 0., 0.]), array([1., 1., 1., ..., 1., 1., 1.]), array([0., 0., 0., ..., 0., 0., 0.]), array([0., 0., 0., ..., 1., 1., 1.]), array([1., 1., 1., ..., 1., 1., 1.]), array([0.        , 0.        , 0.        , ..., 0.23529412, 0.        ,\n",
      "       0.        ]), array([0., 0., 0., ..., 1., 1., 1.]), array([1., 1., 1., ..., 1., 1., 1.]), array([1., 1., 1., ..., 1., 1., 1.]), array([0.        , 0.        , 0.        , ..., 0.23529412, 0.        ,\n",
      "       0.        ]), array([1.        , 0.70588235, 0.        , ..., 1.        , 1.        ,\n",
      "       1.        ]), array([1., 1., 1., ..., 1., 1., 1.]), array([0., 0., 0., ..., 1., 1., 1.]), array([1.        , 0.89803922, 0.46666667, ..., 0.47843137, 0.28627451,\n",
      "       0.        ]), array([0., 0., 0., ..., 0., 0., 0.]), array([1., 1., 1., ..., 1., 1., 1.]), array([1., 1., 1., ..., 1., 1., 1.]), array([0., 0., 0., ..., 0., 0., 0.]), array([0., 0., 0., ..., 0., 0., 0.]), array([1., 1., 1., ..., 1., 1., 1.]), array([1., 1., 1., ..., 1., 1., 1.]), array([0., 0., 0., ..., 0., 0., 0.]), array([0., 0., 0., ..., 1., 1., 1.]), array([1., 1., 1., ..., 1., 1., 1.]), array([1., 1., 1., ..., 1., 1., 1.]), array([1., 1., 1., ..., 1., 1., 1.]), array([1., 1., 1., ..., 1., 1., 1.]), array([0., 0., 0., ..., 0., 0., 0.]), array([0., 0., 0., ..., 0., 0., 0.]), array([1., 1., 1., ..., 1., 1., 1.]), array([0., 0., 0., ..., 0., 0., 0.]), array([0., 0., 0., ..., 1., 1., 1.]), array([1., 1., 1., ..., 0., 0., 0.]), array([0., 0., 0., ..., 0., 0., 0.]), array([1., 1., 1., ..., 1., 1., 1.]), array([0., 0., 0., ..., 1., 1., 1.]), array([1., 1., 1., ..., 1., 1., 1.]), array([1., 1., 1., ..., 0., 0., 0.]), array([0., 0., 0., ..., 0., 0., 0.]), array([1., 1., 1., ..., 1., 1., 1.]), array([0., 0., 0., ..., 0., 0., 0.]), array([0.        , 0.        , 0.        , ..., 0.77647059, 1.        ,\n",
      "       0.        ]), array([1., 1., 1., ..., 1., 1., 1.]), array([0., 0., 0., ..., 0., 0., 0.]), array([0., 0., 0., ..., 1., 1., 1.]), array([1., 1., 1., ..., 1., 1., 1.]), array([0., 0., 0., ..., 1., 1., 1.]), array([1., 1., 1., ..., 1., 1., 1.]), array([0.        , 0.        , 0.        , ..., 1.        , 0.70588235,\n",
      "       0.26666667]), array([0., 0., 0., ..., 1., 1., 1.]), array([1., 1., 1., ..., 1., 1., 1.]), array([0., 0., 0., ..., 0., 0., 0.]), array([1., 1., 1., ..., 0., 0., 0.]), array([0.        , 0.        , 0.        , ..., 0.71372549, 1.        ,\n",
      "       1.        ]), array([0., 0., 0., ..., 1., 1., 1.]), array([0., 0., 0., ..., 1., 1., 1.]), array([1.        , 1.        , 1.        , ..., 0.52941176, 0.71764706,\n",
      "       1.        ]), array([1., 1., 1., ..., 1., 1., 1.]), array([1., 1., 1., ..., 1., 1., 1.]), array([0., 0., 0., ..., 0., 0., 0.]), array([1., 1., 1., ..., 1., 1., 1.]), array([0., 0., 0., ..., 0., 0., 0.]), array([0., 0., 0., ..., 1., 1., 1.]), array([0., 0., 0., ..., 1., 1., 1.]), array([0., 0., 0., ..., 0., 0., 0.]), array([0., 0., 0., ..., 0., 0., 0.]), array([1., 1., 1., ..., 0., 0., 0.]), array([0., 0., 0., ..., 1., 1., 1.]), array([0., 0., 0., ..., 1., 1., 1.]), array([0., 0., 0., ..., 0., 0., 0.]), array([0.        , 0.        , 0.        , ..., 0.71372549, 1.        ,\n",
      "       1.        ]), array([1., 1., 1., ..., 1., 1., 1.]), array([0., 0., 0., ..., 0., 0., 0.]), array([0., 0., 0., ..., 0., 0., 0.]), array([1., 1., 1., ..., 1., 1., 1.]), array([1., 1., 1., ..., 1., 1., 1.]), array([1.        , 1.        , 1.        , ..., 0.92156863, 1.        ,\n",
      "       1.        ]), array([1., 1., 1., ..., 0., 0., 0.]), array([0., 0., 0., ..., 0., 0., 0.]), array([1., 1., 1., ..., 1., 1., 1.]), array([0., 0., 0., ..., 0., 0., 0.]), array([1., 1., 1., ..., 1., 1., 1.]), array([0., 0., 0., ..., 0., 0., 0.]), array([0., 0., 0., ..., 0., 0., 0.]), array([0., 0., 0., ..., 0., 1., 1.]), array([1., 1., 1., ..., 0., 0., 0.]), array([0., 0., 0., ..., 0., 0., 0.]), array([1., 1., 1., ..., 1., 1., 1.]), array([0., 0., 0., ..., 0., 0., 0.]), array([1., 1., 1., ..., 1., 1., 1.]), array([0., 0., 0., ..., 0., 0., 0.]), array([1., 1., 1., ..., 1., 1., 1.]), array([1., 1., 1., ..., 0., 1., 0.]), array([0., 0., 0., ..., 0., 1., 1.]), array([1., 1., 1., ..., 1., 1., 1.]), array([0., 0., 0., ..., 0., 0., 0.]), array([0., 0., 0., ..., 0., 1., 1.]), array([0.74509804, 0.        , 0.        , ..., 0.06666667, 0.        ,\n",
      "       1.        ]), array([1., 1., 1., ..., 0., 1., 0.]), array([1., 1., 1., ..., 1., 1., 1.]), array([0.74509804, 0.        , 0.        , ..., 0.06666667, 0.        ,\n",
      "       1.        ]), array([1., 1., 1., ..., 0., 1., 0.]), array([1., 1., 1., ..., 1., 1., 1.]), array([1., 1., 1., ..., 1., 1., 1.]), array([1., 1., 1., ..., 1., 1., 1.]), array([1., 1., 1., ..., 1., 1., 1.]), array([0.        , 0.        , 0.        , ..., 0.        , 0.18431373,\n",
      "       0.20784314]), array([0., 0., 0., ..., 0., 0., 0.]), array([0., 0., 0., ..., 0., 0., 0.]), array([0.        , 0.        , 0.        , ..., 0.        , 0.18431373,\n",
      "       0.20784314]), array([0.        , 0.28235294, 0.        , ..., 0.        , 0.        ,\n",
      "       0.        ]), array([0., 0., 0., ..., 0., 0., 0.]), array([0., 0., 0., ..., 0., 0., 0.]), array([0.        , 0.28235294, 0.        , ..., 0.        , 0.        ,\n",
      "       0.        ]), array([0., 0., 0., ..., 0., 0., 0.]), array([0.        , 0.        , 0.        , ..., 0.        , 0.18431373,\n",
      "       0.20784314]), array([0., 0., 0., ..., 0., 0., 0.]), array([0.        , 0.28235294, 0.        , ..., 0.        , 0.        ,\n",
      "       0.        ]), array([1., 1., 1., ..., 0., 0., 0.]), array([0.        , 0.        , 0.        , ..., 0.        , 0.18431373,\n",
      "       0.20784314]), array([0., 0., 0., ..., 0., 0., 0.]), array([0., 0., 0., ..., 0., 0., 0.]), array([0., 0., 0., ..., 0., 0., 0.]), array([0., 0., 0., ..., 0., 0., 0.]), array([0., 0., 0., ..., 1., 1., 1.]), array([0.        , 0.28235294, 0.        , ..., 0.        , 0.        ,\n",
      "       0.        ]), array([1., 1., 1., ..., 1., 1., 1.]), array([1., 1., 1., ..., 0., 0., 0.]), array([1., 1., 1., ..., 1., 1., 1.]), array([0., 0., 0., ..., 0., 0., 0.]), array([1., 1., 1., ..., 1., 1., 1.]), array([1., 1., 1., ..., 0., 0., 0.]), array([1., 1., 1., ..., 1., 1., 1.]), array([1., 1., 1., ..., 0., 0., 0.]), array([0., 0., 0., ..., 0., 0., 0.]), array([1., 1., 1., ..., 0., 0., 0.]), array([1., 1., 1., ..., 1., 1., 1.]), array([1., 1., 1., ..., 1., 1., 1.]), array([1., 1., 1., ..., 1., 1., 1.]), array([1., 1., 1., ..., 1., 1., 1.]), array([1., 1., 1., ..., 1., 1., 1.]), array([1., 1., 1., ..., 1., 1., 1.]), array([1., 1., 1., ..., 0., 1., 0.]), array([1., 1., 1., ..., 0., 0., 0.]), array([1., 1., 1., ..., 1., 1., 1.]), array([1., 1., 1., ..., 1., 1., 1.]), array([0., 0., 0., ..., 0., 0., 0.]), array([0., 0., 0., ..., 0., 0., 0.]), array([1., 1., 1., ..., 1., 1., 1.]), array([1., 1., 1., ..., 1., 1., 1.]), array([1., 1., 1., ..., 1., 1., 1.]), array([1., 1., 1., ..., 1., 1., 1.]), array([0., 0., 0., ..., 0., 0., 0.]), array([0., 0., 0., ..., 1., 1., 1.]), array([0., 0., 0., ..., 1., 1., 1.]), array([1., 1., 1., ..., 1., 1., 1.]), array([0., 0., 0., ..., 1., 1., 1.]), array([1., 1., 1., ..., 1., 1., 1.]), array([1., 1., 1., ..., 1., 1., 1.]), array([0., 0., 0., ..., 0., 0., 0.]), array([1.        , 0.83529412, 0.0627451 , ..., 1.        , 1.        ,\n",
      "       1.        ]), array([0.52941176, 1.        , 1.        , ..., 0.76470588, 0.        ,\n",
      "       1.        ]), array([0., 0., 0., ..., 0., 0., 0.]), array([0., 0., 0., ..., 0., 0., 0.]), array([0., 0., 0., ..., 0., 0., 0.]), array([1., 1., 1., ..., 1., 1., 1.]), array([0., 0., 0., ..., 0., 0., 0.]), array([0., 0., 0., ..., 0., 0., 0.]), array([1., 0., 0., ..., 0., 0., 0.]), array([1., 1., 1., ..., 1., 1., 1.]), array([1., 1., 1., ..., 0., 0., 0.]), array([1., 1., 1., ..., 0., 0., 0.]), array([1., 1., 1., ..., 1., 1., 1.]), array([1., 1., 1., ..., 0., 0., 0.]), array([1., 1., 1., ..., 1., 1., 1.]), array([1., 1., 1., ..., 0., 0., 0.]), array([1., 1., 1., ..., 0., 0., 0.]), array([1., 1., 1., ..., 1., 1., 1.]), array([1., 1., 1., ..., 1., 1., 1.]), array([1., 1., 1., ..., 1., 1., 1.]), array([1., 1., 1., ..., 1., 1., 1.]), array([1., 1., 1., ..., 1., 1., 1.]), array([1., 1., 1., ..., 1., 1., 1.]), array([1.        , 1.        , 1.        , ..., 0.        , 1.        ,\n",
      "       0.62352941]), array([1., 1., 1., ..., 1., 1., 1.]), array([1., 1., 1., ..., 1., 1., 1.]), array([1., 1., 1., ..., 1., 1., 1.]), array([1., 1., 1., ..., 0., 0., 0.]), array([1., 1., 1., ..., 1., 1., 1.]), array([1., 1., 1., ..., 1., 1., 1.]), array([1., 1., 1., ..., 1., 1., 1.]), array([1., 1., 1., ..., 1., 1., 1.]), array([1., 1., 1., ..., 0., 0., 0.]), array([0.84313725, 0.        , 0.        , ..., 1.        , 1.        ,\n",
      "       1.        ]), array([1., 1., 1., ..., 1., 1., 1.]), array([0.84313725, 0.        , 0.        , ..., 1.        , 1.        ,\n",
      "       1.        ]), array([0., 0., 0., ..., 0., 0., 0.]), array([1., 1., 1., ..., 0., 0., 0.]), array([0.50196078, 1.        , 0.        , ..., 1.        , 1.        ,\n",
      "       1.        ]), array([1., 1., 1., ..., 1., 1., 1.]), array([1., 1., 1., ..., 1., 1., 1.]), array([1., 1., 1., ..., 1., 1., 1.]), array([0.        , 0.        , 0.        , ..., 0.        , 0.80784314,\n",
      "       0.        ]), array([1., 1., 1., ..., 0., 0., 0.]), array([1., 1., 1., ..., 1., 1., 1.]), array([1., 1., 1., ..., 1., 1., 1.]), array([1., 1., 1., ..., 1., 1., 1.]), array([1., 1., 1., ..., 0., 0., 0.]), array([1., 1., 1., ..., 1., 1., 1.]), array([1., 1., 1., ..., 1., 1., 1.]), array([0., 0., 0., ..., 0., 0., 0.]), array([0., 0., 0., ..., 0., 0., 0.]), array([0., 0., 0., ..., 0., 0., 0.]), array([1., 1., 1., ..., 0., 0., 0.]), array([0.76862745, 0.2745098 , 1.        , ..., 1.        , 1.        ,\n",
      "       1.        ]), array([0.50196078, 1.        , 0.        , ..., 1.        , 1.        ,\n",
      "       1.        ]), array([0., 0., 0., ..., 1., 1., 1.]), array([0., 0., 0., ..., 0., 0., 0.]), array([1., 1., 1., ..., 1., 1., 1.]), array([1., 1., 1., ..., 1., 1., 1.]), array([0., 0., 0., ..., 1., 1., 1.]), array([0., 0., 0., ..., 0., 0., 0.]), array([0., 0., 0., ..., 0., 0., 0.]), array([0., 0., 0., ..., 0., 0., 0.]), array([0., 0., 0., ..., 0., 0., 0.]), array([0., 0., 0., ..., 0., 0., 0.]), array([0., 0., 0., ..., 0., 0., 0.]), array([0., 0., 0., ..., 0., 0., 0.]), array([1.        , 1.        , 1.        , ..., 0.18823529, 1.        ,\n",
      "       1.        ]), array([1., 1., 1., ..., 1., 1., 1.]), array([1.        , 1.        , 1.        , ..., 0.        , 0.03529412,\n",
      "       0.01176471]), array([0., 0., 0., ..., 0., 0., 0.]), array([0., 0., 0., ..., 0., 0., 0.]), array([0.10196078, 0.        , 0.45098039, ..., 0.        , 0.        ,\n",
      "       0.        ]), array([1., 1., 1., ..., 0., 0., 0.]), array([0., 0., 0., ..., 0., 0., 0.]), array([0., 0., 0., ..., 0., 0., 0.]), array([0.55686275, 0.        , 0.        , ..., 0.        , 0.        ,\n",
      "       0.49411765]), array([1., 1., 1., ..., 0., 0., 0.]), array([0., 0., 0., ..., 0., 0., 0.]), array([1., 0., 1., ..., 0., 0., 0.]), array([1., 1., 0., ..., 0., 0., 0.]), array([1., 1., 1., ..., 1., 1., 1.]), array([0.10196078, 0.        , 0.45098039, ..., 0.        , 0.        ,\n",
      "       0.        ]), array([1.        , 1.        , 1.        , ..., 0.18823529, 1.        ,\n",
      "       1.        ]), array([1., 1., 1., ..., 1., 1., 1.]), array([1., 1., 1., ..., 1., 1., 1.]), array([1., 1., 1., ..., 0., 0., 0.]), array([0., 0., 0., ..., 0., 0., 0.]), array([1., 1., 1., ..., 1., 1., 1.]), array([1., 1., 1., ..., 1., 1., 1.]), array([1., 1., 1., ..., 1., 1., 1.]), array([0.55686275, 0.        , 0.        , ..., 0.        , 0.        ,\n",
      "       0.49411765]), array([1., 1., 1., ..., 1., 1., 1.]), array([1., 1., 1., ..., 1., 1., 1.]), array([1., 1., 1., ..., 1., 1., 1.]), array([0., 0., 0., ..., 0., 0., 0.]), array([0., 0., 0., ..., 1., 1., 1.]), array([1., 1., 1., ..., 1., 1., 1.]), array([0., 0., 0., ..., 1., 1., 1.]), array([0., 0., 0., ..., 1., 1., 1.]), array([0., 0., 0., ..., 0., 0., 0.]), array([1., 1., 1., ..., 1., 1., 1.]), array([1., 1., 1., ..., 1., 1., 1.]), array([0., 0., 1., ..., 0., 0., 0.]), array([1.        , 1.        , 1.        , ..., 1.        , 0.        ,\n",
      "       0.42352941]), array([1.        , 1.        , 1.        , ..., 0.9372549 , 0.01568627,\n",
      "       0.01960784]), array([0., 0., 0., ..., 1., 1., 1.]), array([0., 0., 0., ..., 0., 0., 0.]), array([0., 0., 0., ..., 1., 1., 1.]), array([1., 1., 1., ..., 1., 1., 1.]), array([0., 0., 0., ..., 1., 1., 1.]), array([0., 0., 0., ..., 0., 0., 0.]), array([0., 0., 0., ..., 0., 0., 0.]), array([0., 0., 0., ..., 1., 1., 1.]), array([0., 0., 0., ..., 0., 0., 0.]), array([0., 0., 0., ..., 1., 1., 1.]), array([1., 1., 1., ..., 1., 1., 1.]), array([1., 1., 1., ..., 1., 1., 1.]), array([1.        , 1.        , 1.        , ..., 1.        , 0.98823529,\n",
      "       1.        ]), array([1., 1., 1., ..., 1., 1., 1.]), array([1., 1., 1., ..., 0., 0., 0.]), array([1., 1., 1., ..., 1., 1., 1.]), array([0., 0., 0., ..., 1., 1., 1.]), array([0., 0., 0., ..., 0., 0., 0.]), array([1., 1., 1., ..., 0., 0., 0.]), array([1., 1., 1., ..., 1., 1., 1.]), array([1.        , 1.        , 1.        , ..., 0.05882353, 0.        ,\n",
      "       0.03137255]), array([1., 1., 1., ..., 1., 1., 1.]), array([1., 1., 1., ..., 0., 0., 0.]), array([0., 0., 0., ..., 0., 0., 0.]), array([1., 1., 1., ..., 1., 1., 1.]), array([1., 1., 1., ..., 1., 1., 1.]), array([1., 1., 1., ..., 1., 1., 1.]), array([1.        , 1.        , 1.        , ..., 0.05882353, 0.        ,\n",
      "       0.03137255]), array([0., 0., 0., ..., 0., 0., 0.]), array([1., 0., 1., ..., 0., 0., 0.]), array([1., 1., 1., ..., 1., 1., 1.]), array([0., 0., 0., ..., 0., 0., 0.]), array([0., 0., 0., ..., 1., 1., 1.]), array([1., 1., 1., ..., 0., 0., 0.]), array([0., 0., 0., ..., 0., 0., 0.]), array([0., 0., 0., ..., 1., 1., 1.]), array([1., 1., 1., ..., 0., 0., 0.]), array([1., 1., 1., ..., 1., 1., 1.]), array([0.62352941, 0.62352941, 0.62352941, ..., 0.        , 0.        ,\n",
      "       0.        ]), array([1., 1., 1., ..., 0., 0., 0.]), array([1., 1., 0., ..., 1., 1., 1.]), array([1., 1., 1., ..., 0., 0., 0.]), array([1., 0., 1., ..., 0., 0., 0.]), array([0., 0., 0., ..., 0., 0., 0.]), array([0., 0., 0., ..., 0., 0., 0.]), array([0., 0., 0., ..., 0., 0., 0.]), array([1., 1., 1., ..., 0., 0., 0.]), array([1., 1., 1., ..., 1., 1., 1.]), array([1., 1., 1., ..., 1., 1., 1.]), array([0., 0., 0., ..., 0., 0., 0.]), array([0., 0., 0., ..., 0., 0., 0.]), array([0., 0., 0., ..., 1., 1., 1.]), array([1., 1., 1., ..., 0., 0., 0.]), array([1.       , 1.       , 1.       , ..., 0.       , 0.       ,\n",
      "       0.6745098]), array([0., 0., 0., ..., 0., 0., 0.]), array([0., 0., 0., ..., 0., 0., 0.]), array([0., 0., 0., ..., 0., 0., 0.]), array([0., 0., 0., ..., 0., 0., 0.]), array([0., 0., 0., ..., 0., 0., 0.]), array([1., 1., 1., ..., 1., 1., 1.]), array([0.        , 0.        , 0.        , ..., 0.34509804, 0.39215686,\n",
      "       1.        ]), array([0., 0., 0., ..., 0., 0., 0.]), array([0., 0., 0., ..., 0., 0., 0.]), array([1., 1., 1., ..., 0., 0., 0.]), array([0., 0., 0., ..., 0., 0., 0.]), array([0., 0., 0., ..., 0., 0., 0.]), array([0., 0., 0., ..., 0., 0., 0.]), array([0., 0., 0., ..., 0., 0., 0.]), array([1., 1., 0., ..., 1., 1., 1.]), array([0., 0., 0., ..., 0., 0., 0.]), array([1., 1., 1., ..., 1., 1., 1.]), array([0., 0., 0., ..., 0., 0., 0.]), array([0., 0., 0., ..., 0., 0., 0.]), array([0., 0., 0., ..., 1., 1., 1.]), array([0., 0., 0., ..., 0., 0., 0.]), array([0., 0., 0., ..., 1., 1., 1.]), array([0., 0., 0., ..., 0., 0., 0.]), array([0., 0., 0., ..., 0., 0., 0.]), array([0., 0., 0., ..., 1., 1., 1.]), array([0., 0., 0., ..., 1., 1., 1.]), array([0., 0., 0., ..., 0., 0., 0.]), array([1.        , 0.65490196, 0.        , ..., 0.        , 0.        ,\n",
      "       0.        ]), array([0., 0., 0., ..., 0., 0., 0.]), array([0.        , 0.        , 0.        , ..., 1.        , 0.83921569,\n",
      "       1.        ]), array([0., 0., 0., ..., 0., 0., 0.]), array([0., 0., 0., ..., 0., 0., 0.]), array([1., 1., 1., ..., 0., 0., 0.]), array([0.48627451, 0.        , 0.        , ..., 0.9372549 , 0.        ,\n",
      "       0.18431373]), array([0.30588235, 0.        , 0.        , ..., 1.        , 0.        ,\n",
      "       0.18431373]), array([0., 0., 0., ..., 0., 0., 0.]), array([1., 1., 1., ..., 1., 1., 1.]), array([0., 0., 0., ..., 0., 0., 0.]), array([1., 1., 1., ..., 0., 0., 0.]), array([0., 0., 0., ..., 0., 0., 0.]), array([0. , 0.4, 0. , ..., 0. , 0. , 0. ]), array([1., 1., 1., ..., 0., 0., 0.]), array([0., 0., 0., ..., 0., 0., 0.]), array([1., 1., 1., ..., 1., 1., 1.]), array([1., 1., 1., ..., 0., 0., 0.]), array([1.        , 1.        , 1.        , ..., 0.        , 0.50196078,\n",
      "       1.        ]), array([1.        , 1.        , 1.        , ..., 0.        , 0.50196078,\n",
      "       1.        ]), array([1.        , 1.        , 1.        , ..., 0.57647059, 0.57647059,\n",
      "       0.24313725]), array([0., 0., 0., ..., 0., 0., 0.]), array([0.50196078, 0.50196078, 1.        , ..., 1.        , 1.        ,\n",
      "       1.        ]), array([0., 0., 0., ..., 0., 0., 0.]), array([0., 0., 0., ..., 0., 0., 0.]), array([0., 0., 0., ..., 0., 0., 0.]), array([0.        , 0.        , 0.        , ..., 1.        , 0.92156863,\n",
      "       0.10196078]), array([0.        , 0.        , 0.        , ..., 0.01568627, 1.        ,\n",
      "       0.07843137]), array([1., 1., 1., ..., 0., 0., 0.]), array([0., 0., 0., ..., 0., 0., 0.]), array([0., 0., 0., ..., 1., 1., 1.]), array([1.        , 1.        , 0.89803922, ..., 1.        , 1.        ,\n",
      "       1.        ]), array([1., 1., 1., ..., 1., 1., 1.]), array([1., 1., 1., ..., 0., 0., 0.]), array([1.        , 1.        , 1.        , ..., 1.        , 0.44705882,\n",
      "       0.        ]), array([0., 0., 0., ..., 0., 0., 0.]), array([0., 0., 0., ..., 0., 0., 0.]), array([0., 0., 0., ..., 0., 0., 0.]), array([1., 1., 1., ..., 0., 0., 0.]), array([0., 0., 0., ..., 1., 1., 1.]), array([0., 0., 0., ..., 0., 0., 0.]), array([0., 0., 0., ..., 0., 0., 0.]), array([0., 0., 0., ..., 0., 0., 0.]), array([1., 1., 1., ..., 0., 0., 0.]), array([1.        , 1.        , 0.89803922, ..., 1.        , 1.        ,\n",
      "       1.        ]), array([1.        , 0.20784314, 0.        , ..., 0.        , 0.        ,\n",
      "       0.        ]), array([0., 0., 0., ..., 0., 0., 0.]), array([0., 0., 0., ..., 1., 1., 1.]), array([0., 0., 0., ..., 1., 1., 1.]), array([0., 0., 0., ..., 0., 0., 0.]), array([0.89803922, 1.        , 1.        , ..., 0.        , 0.        ,\n",
      "       0.        ]), array([0., 0., 0., ..., 1., 1., 1.]), array([1., 1., 1., ..., 1., 1., 1.]), array([0.        , 1.        , 0.41176471, ..., 0.        , 0.        ,\n",
      "       0.        ]), array([0., 0., 0., ..., 0., 0., 0.]), array([1., 1., 1., ..., 1., 1., 1.]), array([0., 0., 0., ..., 0., 0., 0.]), array([0.       , 0.       , 0.       , ..., 0.0627451, 1.       ,\n",
      "       1.       ]), array([0., 0., 0., ..., 1., 1., 1.]), array([0., 0., 0., ..., 0., 0., 0.]), array([0., 0., 0., ..., 0., 0., 0.]), array([1., 1., 1., ..., 1., 1., 1.]), array([1., 1., 1., ..., 1., 1., 1.]), array([0., 0., 0., ..., 0., 0., 0.]), array([0., 0., 0., ..., 0., 0., 0.]), array([0.       , 0.       , 0.       , ..., 0.0627451, 1.       ,\n",
      "       1.       ]), array([0., 0., 0., ..., 0., 0., 0.]), array([0., 0., 0., ..., 1., 1., 1.]), array([0., 0., 0., ..., 1., 1., 1.]), array([0., 0., 0., ..., 0., 0., 0.]), array([1., 1., 1., ..., 1., 1., 1.]), array([0., 0., 0., ..., 0., 0., 0.]), array([0., 0., 0., ..., 0., 0., 0.]), array([0., 0., 0., ..., 0., 0., 0.]), array([0., 0., 0., ..., 0., 0., 0.]), array([0., 0., 0., ..., 0., 0., 0.]), array([0., 0., 0., ..., 1., 1., 1.])]\n"
     ]
    }
   ],
   "source": [
    "print(images_vectorized)"
   ]
  },
  {
   "cell_type": "code",
   "execution_count": 63,
   "metadata": {},
   "outputs": [],
   "source": [
    "# Find best parameters combination for SVC model using bruteforce method\n",
    "def SVC_model(X, y):\n",
    "    svc_model = SVC()\n",
    "    \n",
    "    # Test C and gamma parameters to find best combination\n",
    "    parameter_options = {'C':[1,10,100],'gamma':[0.001,0.005,0.01]}\n",
    "    clf = GridSearchCV(svc_model, parameter_options, n_jobs=-1, cv=2)\n",
    "    \n",
    "    # Search for the best parameters\n",
    "    clf.fit(X, y)\n",
    "    #print(\"Best parameter combination: \", clf.best_params_)\n",
    "    return clf.best_estimator_"
   ]
  },
  {
   "cell_type": "code",
   "execution_count": 64,
   "metadata": {},
   "outputs": [],
   "source": [
    "def PCA_Accuracy(X, y):\n",
    "\n",
    "    # Split data into train and test\n",
    "    X_train, X_test, y_train, y_test = train_test_split(X, y)\n",
    "    \n",
    "    # Reduce to 16 components\n",
    "    pca_model = PCA(n_components = 16)\n",
    "    pca_model.fit(X_train)\n",
    "    reduced_X_train = pca_model.transform(X_train)\n",
    "    reduced_X_test = pca_model.transform(X_test)\n",
    "    \n",
    "    svc_model = SVC_model(reduced_X_train, y_train)\n",
    "    pred = svc_model.predict(reduced_X_test)\n",
    "    \n",
    "    return np.asarray([svc_model, accuracy_score(y_test, pred)])"
   ]
  },
  {
   "cell_type": "code",
   "execution_count": 65,
   "metadata": {},
   "outputs": [
    {
     "name": "stdout",
     "output_type": "stream",
     "text": [
      "[1. 0. 0. 0. 0. 0. 0. 0. 0. 0. 0. 0. 0. 0. 0. 0. 0. 0. 0. 0. 0. 0. 0. 0.\n",
      " 0. 0. 0. 0. 0. 0. 0.]\n"
     ]
    }
   ],
   "source": [
    "labels_1hot = np_utils.to_categorical(labels)\n",
    "print(labels_1hot[1])"
   ]
  },
  {
   "cell_type": "code",
   "execution_count": 69,
   "metadata": {},
   "outputs": [
    {
     "data": {
      "image/png": "[encoded data removed]",
      "text/plain": [
       "<Figure size 432x288 with 1 Axes>"
      ]
     },
     "metadata": {
      "needs_background": "light"
     },
     "output_type": "display_data"
    }
   ],
   "source": [
    "labels_1D = labels.flatten()\n",
    "\n",
    "scores = []\n",
    "for i in range(20):\n",
    "    accuracy_score_images = PCA_Accuracy(images_vectorized, labels_1D)\n",
    "    scores.append(accuracy_score_images[1])\n",
    "plt.plot(scores)\n",
    "plt.title('Model accuracy')\n",
    "plt.ylabel('Accuracy')\n",
    "plt.xlabel('Epoch')\n",
    "plt.yticks(np.arange(0, 1.5, .1))\n",
    "plt.legend(['Train', 'Val'], loc='upper left')\n",
    "plt.show()\n"
   ]
  },
  {
   "cell_type": "code",
   "execution_count": null,
   "metadata": {},
   "outputs": [],
   "source": []
  }
 ],
 "metadata": {
  "kernelspec": {
   "display_name": "Python 3",
   "language": "python",
   "name": "python3"
  },
  "language_info": {
   "codemirror_mode": {
    "name": "ipython",
    "version": 3
   },
   "file_extension": ".py",
   "mimetype": "text/x-python",
   "name": "python",
   "nbconvert_exporter": "python",
   "pygments_lexer": "ipython3",
   "version": "3.8.8"
  }
 },
 "nbformat": 4,
 "nbformat_minor": 2
}
