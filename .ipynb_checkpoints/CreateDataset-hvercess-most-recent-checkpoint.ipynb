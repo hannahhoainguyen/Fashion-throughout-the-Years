{
 "cells": [
  {
   "cell_type": "markdown",
   "metadata": {},
   "source": [
    "# Final Project\n",
    "### Halina Vercessi-Clarke and Hannah Nguyen"
   ]
  },
  {
   "cell_type": "markdown",
   "metadata": {},
   "source": []
  },
  {
   "cell_type": "code",
   "execution_count": 2,
   "metadata": {},
   "outputs": [
    {
     "name": "stdout",
     "output_type": "stream",
     "text": [
      "WARNING:tensorflow:From <ipython-input-2-5327e8dfb448>:7: experimental_run_functions_eagerly (from tensorflow.python.eager.def_function) is deprecated and will be removed in a future version.\n",
      "Instructions for updating:\n",
      "Use `tf.config.run_functions_eagerly` instead of the experimental version.\n"
     ]
    }
   ],
   "source": [
    "#importing the libraries\n",
    "import os \n",
    "import cv2\n",
    "import numpy as np\n",
    "from skimage import io\n",
    "import tensorflow as tf\n",
    "tf.config.experimental_run_functions_eagerly(True)\n",
    "import matplotlib.pyplot as plt\n",
    "%matplotlib inline\n",
    "import math\n",
    "import pathlib\n",
    "from tensorflow.keras import layers\n",
    "from tensorflow.keras.utils import to_categorical\n",
    "from tensorflow.keras import regularizers"
   ]
  },
  {
   "cell_type": "code",
   "execution_count": 3,
   "metadata": {},
   "outputs": [],
   "source": [
    "#importing scikit learning modules\n",
    "from sklearn.model_selection import train_test_split\n",
    "from sklearn.svm import SVC\n",
    "from sklearn.model_selection import GridSearchCV\n",
    "from sklearn.tree import DecisionTreeClassifier\n",
    "from sklearn.ensemble import RandomForestClassifier\n",
    "\n",
    "from sklearn.model_selection import train_test_split\n",
    "from sklearn.decomposition import PCA\n",
    "from sklearn.metrics import accuracy_score\n",
    "\n",
    "from data.data_utils import plot_decision_boundary, sigmoid, load_planar_dataset, load_extra_datasets\n",
    "\n",
    "from sklearn.linear_model import LogisticRegression\n",
    "from sklearn.model_selection import cross_val_score\n",
    "from sklearn.metrics import accuracy_score"
   ]
  },
  {
   "cell_type": "code",
   "execution_count": 3,
   "metadata": {},
   "outputs": [],
   "source": [
    "# Important: Use seed of 0\n",
    "np.random.seed(0)"
   ]
  },
  {
   "cell_type": "code",
   "execution_count": 4,
   "metadata": {},
   "outputs": [
    {
     "name": "stdout",
     "output_type": "stream",
     "text": [
      "['1820 historical dresses', '1830 historical dresses', '1840 historical dresses', '1850 historical dresses', '1860 historical dresses', '1870 historical dresses', '1880 historical dresses', '1890 historical dresses', '1900 historical dresses', '1910 historical dresses', '1920 dresses', '1925 dresses', '1930 dresses', '1935 dresses', '1940 dresses', '1945 dresses', '1950 dresses', '1955 dresses', '1960 dresses', '1965 dresses', '1970 dresses', '1975 dresses', '1980 dresses', '1985 dresses', '1990 dresses', '1995 dresses', '2000 dresses', '2005 dresses', '2010 dresses', '2015 dresses', '2020 dresses']\n",
      "[]\n",
      "[]\n",
      "[]\n",
      "[]\n",
      "[]\n",
      "[]\n",
      "[]\n",
      "[]\n",
      "[]\n",
      "[]\n",
      "[]\n",
      "[]\n",
      "[]\n",
      "[]\n",
      "[]\n",
      "[]\n",
      "[]\n",
      "[]\n",
      "[]\n",
      "[]\n",
      "[]\n",
      "[]\n",
      "[]\n",
      "[]\n",
      "[]\n",
      "[]\n",
      "[]\n",
      "[]\n",
      "[]\n",
      "[]\n",
      "[]\n"
     ]
    }
   ],
   "source": [
    "\n",
    "# file_path = 'C:/Users/Halina/Documents/GitHub/Fashion-throughout-the-Years/images'\n",
    "file_path = os.getcwd() + '\\imagesUPDATED-Dresses'\n",
    "data = [] \n",
    "labels = []\n",
    "i = 0\n",
    "label_names = os.listdir(file_path)\n",
    "classes = []\n",
    "\n",
    "for root, dirs, files in os.walk(file_path):\n",
    "    #print(dirs)\n",
    "    path = str(root).replace(str(chr(92)), \"/\")\n",
    "    go = False\n",
    "    if 'dresses' in path:\n",
    "        go = True\n",
    "    if (path.split(\"/\")[-1]!='imagesUPDATED-Dresses') and (go == True):\n",
    "\n",
    "        classes.append([label_names[i].split(\" \")[0]])\n",
    "        #print(path)\n",
    "        #print(\"\\n\")\n",
    "        for img in os.listdir(path):\n",
    "            #print(img)\n",
    "            pic = cv2.imread(os.path.join(path,img), cv2.IMREAD_GRAYSCALE)\n",
    "            thresh = 128\n",
    "            img_binary = cv2.threshold(pic, thresh, 255, cv2.THRESH_BINARY)[1]\n",
    "            img = cv2.resize(img_binary,(80,80))\n",
    "            \n",
    "            data.append(img)\n",
    "\n",
    "            labels.append([i])\n",
    "        i+=1\n"
   ]
  },
  {
   "cell_type": "code",
   "execution_count": 194,
   "metadata": {},
   "outputs": [
    {
     "name": "stdout",
     "output_type": "stream",
     "text": [
      "31\n"
     ]
    }
   ],
   "source": [
    "print(len(classes))\n",
    "#classes"
   ]
  },
  {
   "cell_type": "code",
   "execution_count": 195,
   "metadata": {},
   "outputs": [
    {
     "name": "stdout",
     "output_type": "stream",
     "text": [
      "706\n"
     ]
    },
    {
     "data": {
      "text/plain": [
       "[[0], [0], [0], [0], [0], [0], [0], [0]]"
      ]
     },
     "execution_count": 195,
     "metadata": {},
     "output_type": "execute_result"
    }
   ],
   "source": [
    "print(len(labels))\n",
    "labels[0:8]"
   ]
  },
  {
   "cell_type": "code",
   "execution_count": 98,
   "metadata": {},
   "outputs": [],
   "source": [
    "data = np.asarray(data)\n",
    "labels = np.asarray(labels)\n",
    "#print(data[344])\n",
    "#print(labels[344])\n",
    "#data[0].flatten()"
   ]
  },
  {
   "cell_type": "code",
   "execution_count": 99,
   "metadata": {},
   "outputs": [
    {
     "name": "stdout",
     "output_type": "stream",
     "text": [
      "(80, 80)\n",
      "(706, 80, 80)\n"
     ]
    }
   ],
   "source": [
    "print(data[344].shape)\n",
    "#plt.imshow(saved[0].reshape(80,80,3))\n",
    "print(data.shape)"
   ]
  },
  {
   "cell_type": "code",
   "execution_count": 50,
   "metadata": {},
   "outputs": [],
   "source": [
    "#plt.imshow(data[350].reshape(80, 80))"
   ]
  },
  {
   "cell_type": "code",
   "execution_count": 100,
   "metadata": {},
   "outputs": [],
   "source": [
    "# Split the dataset\n",
    "train_images, test_images, train_labels, test_labels = train_test_split(data, labels, test_size = 0.25, random_state = 0)"
   ]
  },
  {
   "cell_type": "code",
   "execution_count": 52,
   "metadata": {},
   "outputs": [
    {
     "data": {
      "text/plain": [
       "(529, 80, 80)"
      ]
     },
     "execution_count": 52,
     "metadata": {},
     "output_type": "execute_result"
    }
   ],
   "source": [
    "train_images.shape"
   ]
  },
  {
   "cell_type": "code",
   "execution_count": 53,
   "metadata": {},
   "outputs": [
    {
     "data": {
      "text/plain": [
       "(177, 80, 80)"
      ]
     },
     "execution_count": 53,
     "metadata": {},
     "output_type": "execute_result"
    }
   ],
   "source": [
    "test_images.shape"
   ]
  },
  {
   "cell_type": "code",
   "execution_count": 54,
   "metadata": {},
   "outputs": [
    {
     "data": {
      "text/plain": [
       "(529, 1)"
      ]
     },
     "execution_count": 54,
     "metadata": {},
     "output_type": "execute_result"
    }
   ],
   "source": [
    "train_labels.shape"
   ]
  },
  {
   "cell_type": "code",
   "execution_count": 55,
   "metadata": {},
   "outputs": [
    {
     "data": {
      "text/plain": [
       "(177, 1)"
      ]
     },
     "execution_count": 55,
     "metadata": {},
     "output_type": "execute_result"
    }
   ],
   "source": [
    "test_labels.shape"
   ]
  },
  {
   "cell_type": "code",
   "execution_count": 57,
   "metadata": {},
   "outputs": [],
   "source": [
    "# plt.figure()\n",
    "# plt.imshow(train_images[0])\n",
    "# plt.colorbar()\n",
    "# plt.grid(False)\n",
    "# plt.show()\n"
   ]
  },
  {
   "cell_type": "code",
   "execution_count": 113,
   "metadata": {},
   "outputs": [
    {
     "name": "stdout",
     "output_type": "stream",
     "text": [
      "[[1.         1.         1.         ... 0.         0.         0.        ]\n",
      " [1.         1.         1.         ... 0.         0.         0.        ]\n",
      " [1.         1.         1.         ... 0.         0.         0.        ]\n",
      " ...\n",
      " [0.         0.         0.         ... 0.         0.         0.        ]\n",
      " [0.10588235 0.         0.47058824 ... 0.         0.         0.        ]\n",
      " [0.         0.31764706 0.         ... 0.         0.         0.        ]]\n",
      "(529, 80, 80)\n"
     ]
    }
   ],
   "source": [
    "train_images_norm = np.asarray(train_images / 255.0)\n",
    "test_images_norm = np.asarray(test_images / 255.0)\n",
    "print(train_images_norm[2])\n",
    "print(train_images_norm.shape)"
   ]
  },
  {
   "cell_type": "code",
   "execution_count": 59,
   "metadata": {},
   "outputs": [],
   "source": [
    "# plt.figure(figsize=(10,10))\n",
    "# for i in range(25):\n",
    "#     plt.subplot(5,5,i+1)\n",
    "#     plt.xticks([])\n",
    "#     plt.yticks([])\n",
    "#     plt.grid(False)\n",
    "#     plt.imshow(train_images[i], cmap=plt.cm.binary)\n",
    "#     plt.xlabel(classes[int(train_labels[i][0])][0])\n",
    "# plt.show()\n"
   ]
  },
  {
   "cell_type": "code",
   "execution_count": 125,
   "metadata": {},
   "outputs": [
    {
     "name": "stdout",
     "output_type": "stream",
     "text": [
      "(31,)\n"
     ]
    }
   ],
   "source": [
    "from keras.utils import np_utils \n",
    "train_labels_1hot = np_utils.to_categorical(train_labels)\n",
    "test_labels_1hot = np_utils.to_categorical(test_labels)\n",
    "print(train_labels_1hot[2].shape)\n"
   ]
  },
  {
   "cell_type": "code",
   "execution_count": 140,
   "metadata": {},
   "outputs": [],
   "source": [
    "# model = tf.keras.Sequential()\n",
    "# model.add(tf.keras.layers.Conv2D(32, (5, 5), activation='relu', input_shape=(80,80,3)))\n",
    "# model.add(tf.keras.layers.MaxPooling2D(pool_size=(2, 2)))\n",
    "# model.add(tf.keras.layers.Conv2D(64, (5, 5), activation='relu'))\n",
    "# model.add(tf.keras.layers.MaxPooling2D(pool_size=(2, 2)))\n",
    "# model.add(tf.keras.layers.Flatten())\n",
    "# model.add(tf.keras.layers.Dense(1000, activation='relu'))\n",
    "# model.add(tf.keras.layers.Dropout(0.5))\n",
    "# model.add(tf.keras.layers.Dense(500, activation='relu'))\n",
    "# model.add(tf.keras.layers.Dropout(0.5))\n",
    "# model.add(tf.keras.layers.Dense(250, activation='relu'))\n",
    "# model.add(tf.keras.layers.Dense(87, activation='softmax'))\n",
    "\n",
    "model2 = tf.keras.Sequential([\n",
    "  layers.Conv2D(32, (3,3), activation='relu', kernel_regularizer=regularizers.l2(0.001), input_shape=(80,80,1)),\n",
    "  layers.Conv2D(64, (3,3), activation='relu', kernel_regularizer=regularizers.l2(0.001)),\n",
    "  layers.MaxPooling2D((2, 2)),\n",
    "  layers.Flatten(),\n",
    "  layers.Dense(128, activation='relu', kernel_regularizer=regularizers.l2(0.001)),\n",
    "  #layers.Dropout(0.5), \n",
    "  #layers.Dense(75, activation='relu', kernel_regularizer=regularizers.l2(0.001)),\n",
    "  layers.Dense(31, activation='softmax')\n",
    "])\n"
   ]
  },
  {
   "cell_type": "markdown",
   "metadata": {},
   "source": [
    "model = Sequential([  layers.experimental.preprocessing.Rescaling(1./255, input_shape=(img_height, img_width, 3)),  layers.Conv2D(16, 3, padding='same', activation='relu'),  layers.MaxPooling2D(),  layers.Conv2D(32, 3, padding='same', activation='relu'),  layers.MaxPooling2D(),  layers.Conv2D(64, 3, padding='same', activation='relu'),  layers.MaxPooling2D(),  layers.Flatten(),  layers.Dense(128, activation='relu'),  layers.Dense(num_classes)])\n",
    "\n"
   ]
  },
  {
   "cell_type": "code",
   "execution_count": 141,
   "metadata": {},
   "outputs": [],
   "source": [
    "model2.compile(loss = 'categorical_crossentropy',\n",
    "              optimizer='adam',\n",
    "              metrics=['accuracy'])"
   ]
  },
  {
   "cell_type": "code",
   "execution_count": 142,
   "metadata": {},
   "outputs": [
    {
     "name": "stdout",
     "output_type": "stream",
     "text": [
      "Model: \"sequential_13\"\n",
      "_________________________________________________________________\n",
      "Layer (type)                 Output Shape              Param #   \n",
      "=================================================================\n",
      "conv2d_16 (Conv2D)           (None, 78, 78, 32)        320       \n",
      "_________________________________________________________________\n",
      "conv2d_17 (Conv2D)           (None, 76, 76, 64)        18496     \n",
      "_________________________________________________________________\n",
      "max_pooling2d_8 (MaxPooling2 (None, 38, 38, 64)        0         \n",
      "_________________________________________________________________\n",
      "flatten_12 (Flatten)         (None, 92416)             0         \n",
      "_________________________________________________________________\n",
      "dense_35 (Dense)             (None, 128)               11829376  \n",
      "_________________________________________________________________\n",
      "dense_36 (Dense)             (None, 31)                3999      \n",
      "=================================================================\n",
      "Total params: 11,852,191\n",
      "Trainable params: 11,852,191\n",
      "Non-trainable params: 0\n",
      "_________________________________________________________________\n",
      "None\n"
     ]
    }
   ],
   "source": [
    "print(model2.summary())"
   ]
  },
  {
   "cell_type": "code",
   "execution_count": 144,
   "metadata": {},
   "outputs": [
    {
     "name": "stdout",
     "output_type": "stream",
     "text": [
      "Epoch 1/15\n",
      "265/265 [==============================] - 55s 207ms/step - loss: 3.4876 - accuracy: 0.2382 - val_loss: 3.4733 - val_accuracy: 0.2994\n",
      "Epoch 2/15\n",
      "265/265 [==============================] - 61s 229ms/step - loss: 2.1540 - accuracy: 0.7183 - val_loss: 3.5241 - val_accuracy: 0.4350\n",
      "Epoch 3/15\n",
      "265/265 [==============================] - 59s 223ms/step - loss: 1.2646 - accuracy: 0.9395 - val_loss: 3.4830 - val_accuracy: 0.4689\n",
      "Epoch 4/15\n",
      "265/265 [==============================] - 60s 227ms/step - loss: 0.9128 - accuracy: 0.9584 - val_loss: 3.0095 - val_accuracy: 0.4689\n",
      "Epoch 5/15\n",
      "265/265 [==============================] - 62s 233ms/step - loss: 0.6867 - accuracy: 0.9603 - val_loss: 3.0564 - val_accuracy: 0.4350\n",
      "Epoch 6/15\n",
      "265/265 [==============================] - 59s 221ms/step - loss: 0.8549 - accuracy: 0.9263 - val_loss: 3.0828 - val_accuracy: 0.4237\n",
      "Epoch 7/15\n",
      "265/265 [==============================] - 58s 219ms/step - loss: 0.8821 - accuracy: 0.9490 - val_loss: 3.4374 - val_accuracy: 0.4294\n",
      "Epoch 8/15\n",
      "265/265 [==============================] - 59s 221ms/step - loss: 0.8518 - accuracy: 0.9376 - val_loss: 2.9526 - val_accuracy: 0.4463\n",
      "Epoch 9/15\n",
      "265/265 [==============================] - 59s 223ms/step - loss: 0.6299 - accuracy: 0.9584 - val_loss: 2.7595 - val_accuracy: 0.4520\n",
      "Epoch 10/15\n",
      "265/265 [==============================] - 59s 222ms/step - loss: 0.5421 - accuracy: 0.9527 - val_loss: 2.6246 - val_accuracy: 0.4463\n",
      "Epoch 11/15\n",
      "265/265 [==============================] - 59s 223ms/step - loss: 0.5075 - accuracy: 0.9565 - val_loss: 2.7665 - val_accuracy: 0.4633\n",
      "Epoch 12/15\n",
      "265/265 [==============================] - 59s 221ms/step - loss: 0.5055 - accuracy: 0.9565 - val_loss: 2.9690 - val_accuracy: 0.4633\n",
      "Epoch 13/15\n",
      "265/265 [==============================] - 60s 227ms/step - loss: 0.5137 - accuracy: 0.9584 - val_loss: 3.2239 - val_accuracy: 0.4576\n",
      "Epoch 14/15\n",
      "265/265 [==============================] - 60s 225ms/step - loss: 0.4442 - accuracy: 0.9546 - val_loss: 3.1338 - val_accuracy: 0.4689\n",
      "Epoch 15/15\n",
      "265/265 [==============================] - 60s 227ms/step - loss: 0.3815 - accuracy: 0.9603 - val_loss: 2.5348 - val_accuracy: 0.4350\n"
     ]
    }
   ],
   "source": [
    "hist_model2 = model2.fit(train_images_norm, train_labels_1hot, validation_data=(test_images_norm, test_labels_1hot), batch_size=2, epochs=15)"
   ]
  },
  {
   "cell_type": "code",
   "execution_count": 149,
   "metadata": {},
   "outputs": [
    {
     "data": {
      "image/png": "[encoded data removed]",
      "text/plain": [
       "<Figure size 432x288 with 1 Axes>"
      ]
     },
     "metadata": {
      "needs_background": "light"
     },
     "output_type": "display_data"
    }
   ],
   "source": [
    "#Visualize the models accuracy\n",
    "plt.plot(hist_model2.history['accuracy'])\n",
    "plt.plot(hist_model2.history['val_accuracy'])\n",
    "plt.title('Model accuracy')\n",
    "plt.ylabel('Accuracy')\n",
    "plt.xlabel('Epoch')\n",
    "plt.yticks(np.arange(0, 1.2, .1))\n",
    "plt.legend(['Train', 'Val'], loc='upper left')\n",
    "plt.show()"
   ]
  },
  {
   "cell_type": "code",
   "execution_count": 150,
   "metadata": {},
   "outputs": [],
   "source": [
    "#model2.evaluate(test_images, test_labels, batch_size=1)"
   ]
  },
  {
   "cell_type": "code",
   "execution_count": null,
   "metadata": {},
   "outputs": [],
   "source": [
    "# Predictions on unseen images"
   ]
  },
  {
   "cell_type": "code",
   "execution_count": 151,
   "metadata": {},
   "outputs": [
    {
     "name": "stdout",
     "output_type": "stream",
     "text": [
      "['2020 dresses', '2020 fashion', '2020 fashion trends', '2020 street style']\n",
      "[]\n",
      "C:/Users/18025/Documents/GitHub/Fashion-throughout-the-Years/prediction_Images2020/2020 dresses\n",
      "\n",
      "\n",
      "[]\n",
      "C:/Users/18025/Documents/GitHub/Fashion-throughout-the-Years/prediction_Images2020/2020 fashion\n",
      "\n",
      "\n",
      "[]\n",
      "C:/Users/18025/Documents/GitHub/Fashion-throughout-the-Years/prediction_Images2020/2020 fashion trends\n",
      "\n",
      "\n",
      "[]\n",
      "C:/Users/18025/Documents/GitHub/Fashion-throughout-the-Years/prediction_Images2020/2020 street style\n",
      "\n",
      "\n"
     ]
    }
   ],
   "source": [
    "file_path = os.getcwd() + '\\prediction_Images2020'\n",
    "data_2020 = [] \n",
    "labels_2020 = []\n",
    "i = 0\n",
    "label_names_2020 = os.listdir(file_path)\n",
    "classes = []\n",
    "\n",
    "for root, dirs, files in os.walk(file_path):\n",
    "    print(dirs)\n",
    "    path = str(root).replace(str(chr(92)), \"/\")\n",
    "    go = False\n",
    "    if '2020' in path:\n",
    "        go = True\n",
    "    if (path.split(\"/\")[-1]!='prediction_Images2020') and (go == True):\n",
    "\n",
    "        classes.append([label_names_2020[i]])\n",
    "        print(path)\n",
    "        print(\"\\n\")\n",
    "        for img in os.listdir(path):\n",
    "            #print(img)\n",
    "            pic = cv2.imread(os.path.join(path,img), cv2.IMREAD_GRAYSCALE)\n",
    "            thresh = 128\n",
    "            img_binary = cv2.threshold(pic, thresh, 255, cv2.THRESH_BINARY)[1]\n",
    "            img = cv2.resize(img_binary,(80,80))\n",
    "            \n",
    "            data_2020.append(img/255.0)\n",
    "\n",
    "            labels_2020.append([i])\n",
    "        i+=1\n"
   ]
  },
  {
   "cell_type": "code",
   "execution_count": 155,
   "metadata": {},
   "outputs": [],
   "source": [
    "\n",
    "data_2020 = np.asarray(data_2020)\n",
    "data_2020_norm = np.asarray(data_2020/255.0)\n",
    "\n",
    "labels_2020 = np.asarray(labels)"
   ]
  },
  {
   "cell_type": "code",
   "execution_count": 232,
   "metadata": {},
   "outputs": [],
   "source": [
    "probability_model = tf.keras.Sequential([model2, \n",
    "                                         tf.keras.layers.Softmax()])\n",
    "# Try with images it's already seen to test display...\n",
    "predictions = probability_model.predict(train_images_norm)"
   ]
  },
  {
   "cell_type": "code",
   "execution_count": 233,
   "metadata": {},
   "outputs": [
    {
     "name": "stdout",
     "output_type": "stream",
     "text": [
      "[0.03062506 0.03057926 0.0305769  0.03057707 0.03061965 0.03058843\n",
      " 0.03059222 0.03058364 0.03057902 0.03057747 0.03058846 0.0305766\n",
      " 0.08248612 0.0305872  0.03057687 0.0305772  0.03059498 0.03059642\n",
      " 0.03057917 0.03057648 0.03057742 0.03057805 0.03058079 0.03057712\n",
      " 0.03058415 0.03057734 0.03057923 0.03057643 0.03057713 0.03057799\n",
      " 0.03057614]\n",
      "12\n",
      "1930\n"
     ]
    },
    {
     "data": {
      "image/png": "[encoded data removed]",
      "text/plain": [
       "<Figure size 432x288 with 1 Axes>"
      ]
     },
     "metadata": {
      "needs_background": "light"
     },
     "output_type": "display_data"
    }
   ],
   "source": [
    "plt.imshow(train_images_norm[30], cmap=plt.cm.binary)\n",
    "print(predictions[30])\n",
    "print(np.argmax(predictions[30]))\n",
    "print(classes[np.argmax(predictions[30])][0])"
   ]
  },
  {
   "cell_type": "code",
   "execution_count": null,
   "metadata": {},
   "outputs": [],
   "source": [
    "\n"
   ]
  },
  {
   "cell_type": "code",
   "execution_count": 1,
   "metadata": {},
   "outputs": [
    {
     "ename": "NameError",
     "evalue": "name 'plt' is not defined",
     "output_type": "error",
     "traceback": [
      "\u001b[1;31m---------------------------------------------------------------------------\u001b[0m",
      "\u001b[1;31mNameError\u001b[0m                                 Traceback (most recent call last)",
      "\u001b[1;32m<ipython-input-1-7ac160b46855>\u001b[0m in \u001b[0;36m<module>\u001b[1;34m\u001b[0m\n\u001b[0;32m      2\u001b[0m \u001b[0mcols\u001b[0m \u001b[1;33m=\u001b[0m \u001b[1;36m30\u001b[0m\u001b[1;33m\u001b[0m\u001b[1;33m\u001b[0m\u001b[0m\n\u001b[0;32m      3\u001b[0m \u001b[0mnum_images\u001b[0m \u001b[1;33m=\u001b[0m \u001b[0mrows\u001b[0m\u001b[1;33m*\u001b[0m\u001b[0mcols\u001b[0m\u001b[1;33m\u001b[0m\u001b[1;33m\u001b[0m\u001b[0m\n\u001b[1;32m----> 4\u001b[1;33m \u001b[0mplt\u001b[0m\u001b[1;33m.\u001b[0m\u001b[0mfigure\u001b[0m\u001b[1;33m(\u001b[0m\u001b[0mfigsize\u001b[0m\u001b[1;33m=\u001b[0m\u001b[1;33m(\u001b[0m\u001b[1;36m4\u001b[0m\u001b[1;33m*\u001b[0m\u001b[1;36m2\u001b[0m\u001b[1;33m*\u001b[0m\u001b[0mcols\u001b[0m\u001b[1;33m,\u001b[0m \u001b[1;36m2\u001b[0m\u001b[1;33m*\u001b[0m\u001b[0mrows\u001b[0m\u001b[1;33m)\u001b[0m\u001b[1;33m)\u001b[0m\u001b[1;33m\u001b[0m\u001b[1;33m\u001b[0m\u001b[0m\n\u001b[0m\u001b[0;32m      5\u001b[0m \u001b[1;32mfor\u001b[0m \u001b[0mi\u001b[0m \u001b[1;32min\u001b[0m \u001b[0mrange\u001b[0m\u001b[1;33m(\u001b[0m\u001b[1;36m10\u001b[0m\u001b[1;33m,\u001b[0m \u001b[1;36m13\u001b[0m\u001b[1;33m)\u001b[0m\u001b[1;33m:\u001b[0m\u001b[1;33m\u001b[0m\u001b[1;33m\u001b[0m\u001b[0m\n\u001b[0;32m      6\u001b[0m     \u001b[0mplt\u001b[0m\u001b[1;33m.\u001b[0m\u001b[0msubplot\u001b[0m\u001b[1;33m(\u001b[0m\u001b[0mrows\u001b[0m\u001b[1;33m,\u001b[0m \u001b[1;36m2\u001b[0m\u001b[1;33m*\u001b[0m\u001b[0mcols\u001b[0m\u001b[1;33m,\u001b[0m \u001b[1;36m2\u001b[0m\u001b[1;33m*\u001b[0m\u001b[0mi\u001b[0m\u001b[1;33m+\u001b[0m\u001b[1;36m1\u001b[0m\u001b[1;33m)\u001b[0m\u001b[1;33m\u001b[0m\u001b[1;33m\u001b[0m\u001b[0m\n",
      "\u001b[1;31mNameError\u001b[0m: name 'plt' is not defined"
     ]
    }
   ],
   "source": [
    "rows = 30\n",
    "cols = 30\n",
    "num_images = rows*cols\n",
    "plt.figure(figsize=(4*2*cols, 2*rows))\n",
    "for i in range(10, 13):\n",
    "    plt.subplot(rows, 2*cols, 2*i+1)\n",
    "    plt.xticks([])\n",
    "    plt.yticks([])\n",
    "    plt.imshow(data_2020_norm[i], cmap=plt.cm.binary)\n",
    "    \n",
    "    plt.subplot(rows, 2*cols, 2*i+2)\n",
    "    plt.xticks(range(31))\n",
    "    plt.yticks([])\n",
    "    plt.bar(range(31), 10*predictions[i])\n",
    "    #plt.ylim([0, 1])\n",
    "\n",
    "plt.show()"
   ]
  },
  {
   "cell_type": "code",
   "execution_count": null,
   "metadata": {},
   "outputs": [],
   "source": []
  },
  {
   "cell_type": "code",
   "execution_count": null,
   "metadata": {},
   "outputs": [],
   "source": []
  },
  {
   "cell_type": "code",
   "execution_count": null,
   "metadata": {},
   "outputs": [],
   "source": []
  },
  {
   "cell_type": "code",
   "execution_count": 108,
   "metadata": {},
   "outputs": [],
   "source": [
    "# PCA Model using SVC"
   ]
  },
  {
   "cell_type": "code",
   "execution_count": null,
   "metadata": {},
   "outputs": [],
   "source": [
    "train_images.flatten()\n",
    "test_images.flatten()"
   ]
  },
  {
   "cell_type": "code",
   "execution_count": 61,
   "metadata": {},
   "outputs": [],
   "source": [
    "# Preprocess all images in data array\n",
    "def vectorize_images(images):\n",
    "    img_array = []\n",
    "    for img in images:\n",
    "        #img = np.asmatrix(img)\n",
    "        img = img.flatten()/255.0\n",
    "        img_array.append(img)\n",
    "    \n",
    "    return img_array\n",
    "\n",
    "images_vectorized = vectorize_images(data)"
   ]
  },
  {
   "cell_type": "code",
   "execution_count": 62,
   "metadata": {},
   "outputs": [
    {
     "name": "stdout",
     "output_type": "stream",
     "text": [
      "[array([1., 1., 1., ..., 0., 0., 0.]), array([1.        , 1.        , 1.        , ..., 0.82745098, 0.18823529,\n",
      "       0.        ]), array([0., 0., 0., ..., 0., 0., 0.]), array([0., 0., 0., ..., 1., 1., 1.]), array([0., 0., 0., ..., 0., 0., 0.]), array([1., 1., 1., ..., 1., 1., 1.]), array([0., 0., 0., ..., 1., 1., 1.]), array([0., 0., 0., ..., 0., 0., 0.]), array([0., 0., 0., ..., 0., 0., 0.]), array([1., 1., 1., ..., 1., 1., 1.]), array([1., 1., 1., ..., 0., 0., 0.]), array([0., 0., 0., ..., 1., 1., 1.]), array([1., 1., 1., ..., 0., 0., 0.]), array([1., 1., 1., ..., 1., 1., 1.]), array([1., 1., 1., ..., 1., 1., 1.]), array([1., 1., 1., ..., 0., 0., 0.]), array([0., 0., 0., ..., 1., 1., 1.]), array([1., 1., 1., ..., 1., 1., 1.]), array([0., 0., 0., ..., 1., 1., 1.]), array([0., 0., 0., ..., 0., 0., 0.]), array([0., 0., 0., ..., 0., 0., 0.]), array([0., 0., 0., ..., 0., 0., 0.]), array([0., 0., 0., ..., 0., 0., 0.]), array([0., 0., 0., ..., 0., 0., 0.]), array([1., 1., 1., ..., 1., 1., 1.]), array([0., 0., 0., ..., 0., 0., 0.]), array([0., 0., 0., ..., 1., 1., 1.]), array([0., 0., 0., ..., 0., 0., 0.]), array([1., 1., 1., ..., 0., 0., 0.]), array([0., 0., 0., ..., 0., 0., 0.]), array([1., 1., 1., ..., 0., 0., 0.]), array([0., 0., 0., ..., 0., 0., 0.]), array([1., 1., 1., ..., 1., 1., 1.]), array([0., 0., 0., ..., 1., 1., 1.]), array([0., 0., 0., ..., 1., 1., 1.]), array([1., 1., 1., ..., 0., 0., 0.]), array([1., 1., 1., ..., 0., 0., 0.]), array([0., 0., 0., ..., 1., 1., 1.]), array([1., 1., 1., ..., 0., 0., 0.]), array([1., 1., 1., ..., 1., 1., 1.]), array([0., 0., 0., ..., 1., 1., 1.]), array([1., 1., 1., ..., 1., 1., 1.]), array([0., 0., 0., ..., 0., 0., 0.]), array([1., 1., 1., ..., 1., 1., 1.]), array([1., 1., 1., ..., 0., 0., 0.]), array([1., 0., 0., ..., 0., 0., 0.]), array([0., 0., 0., ..., 0., 0., 0.]), array([0., 0., 0., ..., 1., 1., 1.]), array([0., 0., 0., ..., 1., 1., 1.]), array([0., 0., 0., ..., 0., 0., 0.]), array([0.        , 0.        , 0.        , ..., 1.        , 1.        ,\n",
      "       0.09411765]), array([0., 0., 0., ..., 0., 0., 0.]), array([0., 0., 0., ..., 0., 0., 0.]), array([0., 0., 0., ..., 0., 0., 0.]), array([1., 1., 1., ..., 1., 1., 1.]), array([0., 0., 0., ..., 0., 0., 0.]), array([1.        , 1.        , 1.        , ..., 0.28235294, 0.        ,\n",
      "       0.        ]), array([0., 0., 0., ..., 0., 0., 0.]), array([0.        , 0.        , 0.        , ..., 0.13333333, 0.        ,\n",
      "       0.        ]), array([1., 1., 1., ..., 1., 1., 1.]), array([0.        , 0.        , 0.        , ..., 0.        , 0.        ,\n",
      "       0.50588235]), array([1., 1., 1., ..., 1., 1., 1.]), array([0., 0., 0., ..., 0., 0., 0.]), array([0., 0., 0., ..., 0., 0., 0.]), array([1., 1., 1., ..., 1., 1., 1.]), array([0., 0., 0., ..., 1., 1., 1.]), array([0.        , 0.        , 0.        , ..., 0.        , 0.        ,\n",
      "       0.50588235]), array([1., 0., 0., ..., 0., 0., 0.]), array([0., 0., 0., ..., 0., 0., 0.]), array([0., 0., 0., ..., 0., 0., 0.]), array([1.        , 1.        , 1.        , ..., 0.59215686, 0.23921569,\n",
      "       0.        ]), array([0., 0., 0., ..., 0., 0., 0.]), array([1., 1., 1., ..., 1., 1., 1.]), array([1.        , 1.        , 1.        , ..., 0.28235294, 0.        ,\n",
      "       0.        ]), array([0.        , 0.        , 0.        , ..., 0.13333333, 0.        ,\n",
      "       0.        ]), array([0., 0., 0., ..., 0., 0., 0.]), array([1., 1., 1., ..., 1., 1., 1.]), array([1.        , 1.        , 1.        , ..., 0.59215686, 0.23921569,\n",
      "       0.        ]), array([0., 0., 0., ..., 1., 1., 1.]), array([0., 0., 0., ..., 0., 0., 0.]), array([0., 0., 0., ..., 0., 0., 0.]), array([0., 0., 0., ..., 0., 0., 0.]), array([1.        , 1.        , 1.        , ..., 0.28235294, 0.        ,\n",
      "       0.        ]), array([1., 1., 1., ..., 1., 1., 1.]), array([0.        , 0.        , 0.        , ..., 0.13333333, 0.        ,\n",
      "       0.        ]), array([0., 0., 0., ..., 0., 0., 0.]), array([0., 0., 0., ..., 1., 1., 1.]), array([0., 0., 0., ..., 0., 0., 0.]), array([0., 0., 0., ..., 0., 0., 0.]), array([1., 1., 1., ..., 1., 1., 1.]), array([0., 0., 0., ..., 1., 1., 1.]), array([1., 1., 1., ..., 1., 1., 1.]), array([0., 0., 0., ..., 0., 0., 0.]), array([1., 1., 1., ..., 1., 1., 1.]), array([0., 0., 0., ..., 1., 1., 1.]), array([0., 0., 0., ..., 1., 1., 1.]), array([1., 1., 1., ..., 1., 1., 1.]), array([1., 1., 1., ..., 1., 1., 1.]), array([1., 1., 1., ..., 1., 1., 1.]), array([0., 0., 0., ..., 1., 1., 1.]), array([1., 1., 1., ..., 0., 0., 0.]), array([0., 0., 0., ..., 0., 0., 0.]), array([1., 1., 1., ..., 0., 0., 0.]), array([0., 0., 0., ..., 0., 0., 0.]), array([1., 1., 1., ..., 1., 1., 1.]), array([0., 0., 0., ..., 0., 0., 0.]), array([0., 0., 0., ..., 0., 0., 0.]), array([1., 1., 1., ..., 1., 1., 1.]), array([0., 0., 0., ..., 1., 1., 1.]), array([0., 0., 0., ..., 0., 0., 0.]), array([1., 1., 1., ..., 0., 0., 0.]), array([1., 1., 1., ..., 0., 0., 0.]), array([0., 0., 0., ..., 1., 1., 1.]), array([1., 1., 1., ..., 1., 1., 1.]), array([0.       , 0.       , 0.       , ..., 1.       , 0.8745098,\n",
      "       1.       ]), array([1., 1., 1., ..., 0., 0., 0.]), array([0., 0., 0., ..., 1., 1., 1.]), array([0., 0., 0., ..., 0., 0., 0.]), array([1., 1., 1., ..., 1., 1., 1.]), array([1., 1., 1., ..., 0., 0., 0.]), array([1., 1., 1., ..., 1., 1., 1.]), array([0., 0., 0., ..., 0., 0., 0.]), array([0., 0., 0., ..., 0., 0., 0.]), array([1., 1., 1., ..., 1., 1., 1.]), array([0., 0., 0., ..., 1., 1., 1.]), array([1., 1., 1., ..., 0., 0., 0.]), array([0.       , 0.       , 0.       , ..., 1.       , 0.8745098,\n",
      "       1.       ]), array([1., 1., 1., ..., 0., 0., 0.]), array([1., 1., 1., ..., 0., 0., 0.]), array([1., 1., 1., ..., 0., 0., 0.]), array([1., 1., 1., ..., 1., 1., 1.]), array([0., 0., 0., ..., 1., 1., 1.]), array([1., 1., 1., ..., 1., 1., 1.]), array([1., 1., 1., ..., 1., 1., 1.]), array([1., 1., 1., ..., 0., 0., 0.]), array([0.       , 0.       , 0.       , ..., 1.       , 0.8745098,\n",
      "       1.       ]), array([1., 1., 1., ..., 0., 0., 0.]), array([0., 0., 0., ..., 0., 0., 0.]), array([0., 0., 0., ..., 1., 1., 1.]), array([1.        , 1.        , 1.        , ..., 0.        , 0.        ,\n",
      "       0.42352941]), array([0., 0., 0., ..., 0., 0., 0.]), array([0., 0., 0., ..., 0., 0., 0.]), array([1., 1., 1., ..., 0., 0., 0.]), array([1., 1., 1., ..., 1., 1., 1.]), array([0., 0., 0., ..., 0., 0., 1.]), array([1., 1., 1., ..., 0., 0., 0.]), array([1., 1., 1., ..., 0., 0., 0.]), array([1., 1., 1., ..., 1., 1., 1.]), array([0., 0., 0., ..., 0., 0., 0.]), array([0., 0., 0., ..., 0., 0., 0.]), array([1., 1., 1., ..., 0., 0., 0.]), array([0., 0., 0., ..., 0., 0., 0.]), array([1., 1., 1., ..., 1., 1., 1.]), array([1., 1., 1., ..., 1., 1., 1.]), array([0., 0., 0., ..., 1., 1., 1.]), array([1., 1., 1., ..., 0., 0., 0.]), array([0., 0., 0., ..., 1., 1., 1.]), array([0., 0., 0., ..., 0., 0., 0.]), array([0., 0., 0., ..., 0., 0., 0.]), array([0., 0., 0., ..., 1., 1., 1.]), array([1., 1., 1., ..., 1., 1., 1.]), array([1., 1., 1., ..., 1., 1., 1.]), array([1., 1., 1., ..., 1., 1., 1.]), array([1., 1., 1., ..., 0., 0., 0.]), array([1., 1., 1., ..., 1., 1., 1.]), array([0., 0., 0., ..., 0., 0., 0.]), array([0., 0., 0., ..., 0., 0., 0.]), array([1., 1., 1., ..., 0., 0., 0.]), array([1.        , 1.        , 1.        , ..., 0.        , 0.        ,\n",
      "       0.42352941]), array([0., 0., 0., ..., 0., 0., 0.]), array([0., 0., 0., ..., 1., 1., 1.]), array([1., 1., 1., ..., 0., 0., 0.]), array([0., 0., 0., ..., 0., 0., 0.]), array([1.        , 1.        , 1.        , ..., 0.        , 0.        ,\n",
      "       0.42352941]), array([1., 1., 1., ..., 0., 0., 0.]), array([0., 0., 0., ..., 0., 0., 0.]), array([1., 1., 1., ..., 1., 1., 1.]), array([1., 1., 1., ..., 1., 1., 1.]), array([1., 1., 1., ..., 0., 0., 0.]), array([0.68627451, 0.12156863, 0.90588235, ..., 0.        , 0.        ,\n",
      "       0.        ]), array([1., 1., 1., ..., 1., 1., 1.]), array([0., 0., 0., ..., 1., 1., 1.]), array([0.        , 0.        , 0.        , ..., 0.27058824, 0.80784314,\n",
      "       0.99607843]), array([0., 0., 0., ..., 0., 1., 0.]), array([1., 1., 1., ..., 0., 0., 0.]), array([0., 0., 0., ..., 1., 1., 1.]), array([0.        , 0.        , 0.        , ..., 0.27058824, 0.80784314,\n",
      "       0.99607843]), array([1., 1., 1., ..., 1., 1., 1.]), array([1., 1., 1., ..., 1., 1., 1.]), array([0., 0., 0., ..., 0., 1., 0.]), array([0., 0., 0., ..., 0., 1., 0.]), array([0., 0., 0., ..., 0., 0., 0.]), array([0., 0., 0., ..., 0., 1., 0.]), array([0., 0., 0., ..., 1., 1., 1.]), array([1., 1., 1., ..., 1., 1., 1.]), array([1., 1., 1., ..., 1., 1., 1.]), array([1., 1., 1., ..., 1., 1., 1.]), array([0., 0., 0., ..., 1., 1., 1.]), array([1.        , 1.        , 1.        , ..., 0.        , 0.39607843,\n",
      "       0.        ]), array([1., 1., 1., ..., 1., 1., 1.]), array([0., 0., 0., ..., 1., 1., 1.]), array([1., 1., 1., ..., 1., 1., 1.]), array([0., 0., 0., ..., 0., 0., 0.]), array([1., 1., 1., ..., 1., 1., 1.]), array([1.        , 1.        , 1.        , ..., 0.56470588, 1.        ,\n",
      "       0.        ]), array([1., 1., 1., ..., 1., 1., 1.]), array([0., 0., 0., ..., 1., 1., 1.]), array([1., 1., 1., ..., 1., 1., 1.]), array([1., 1., 1., ..., 1., 1., 1.]), array([1., 1., 1., ..., 1., 1., 1.]), array([0., 0., 0., ..., 0., 0., 0.]), array([0., 0., 0., ..., 0., 0., 0.]), array([0., 0., 0., ..., 1., 1., 1.]), array([0., 0., 0., ..., 0., 0., 0.]), array([1., 1., 1., ..., 1., 1., 1.]), array([1., 1., 1., ..., 1., 1., 1.]), array([1., 1., 1., ..., 1., 1., 1.]), array([1., 1., 1., ..., 1., 1., 1.]), array([1., 1., 1., ..., 1., 1., 1.]), array([1., 1., 1., ..., 1., 1., 1.]), array([0., 0., 0., ..., 1., 1., 1.]), array([0.63921569, 0.01960784, 0.23921569, ..., 1.        , 1.        ,\n",
      "       1.        ]), array([0.        , 1.        , 1.        , ..., 0.08627451, 0.        ,\n",
      "       0.        ]), array([0.        , 0.24705882, 0.51372549, ..., 0.        , 0.        ,\n",
      "       0.        ]), array([1., 1., 1., ..., 1., 1., 1.]), array([1., 1., 1., ..., 1., 1., 1.]), array([1.        , 1.        , 1.        , ..., 0.        , 0.74901961,\n",
      "       0.25098039]), array([1.        , 1.        , 1.        , ..., 0.56470588, 1.        ,\n",
      "       0.        ]), array([0., 0., 0., ..., 0., 0., 0.]), array([0., 0., 0., ..., 1., 1., 1.]), array([0., 0., 0., ..., 0., 0., 0.]), array([0., 0., 0., ..., 1., 1., 1.]), array([0., 0., 0., ..., 1., 1., 1.]), array([0., 0., 0., ..., 1., 1., 1.]), array([1.        , 1.        , 1.        , ..., 0.42745098, 1.        ,\n",
      "       1.        ]), array([1., 1., 1., ..., 1., 1., 1.]), array([1., 1., 1., ..., 1., 1., 1.]), array([1., 1., 1., ..., 1., 1., 1.]), array([1., 1., 1., ..., 1., 1., 1.]), array([0., 0., 0., ..., 1., 1., 1.]), array([1.        , 1.        , 0.81176471, ..., 1.        , 1.        ,\n",
      "       1.        ]), array([1., 1., 1., ..., 1., 1., 1.]), array([1., 1., 1., ..., 1., 1., 1.]), array([1., 1., 1., ..., 1., 1., 1.]), array([1.        , 1.        , 0.81176471, ..., 1.        , 1.        ,\n",
      "       1.        ]), array([0., 0., 0., ..., 0., 0., 0.]), array([1., 1., 1., ..., 0., 0., 0.]), array([0., 0., 0., ..., 0., 0., 0.]), array([1., 1., 1., ..., 1., 1., 1.]), array([0., 0., 0., ..., 0., 0., 0.]), array([0., 0., 0., ..., 0., 0., 0.]), array([1., 1., 1., ..., 1., 1., 1.]), array([1., 1., 1., ..., 1., 1., 1.]), array([1., 1., 1., ..., 0., 0., 0.]), array([0., 0., 0., ..., 0., 0., 0.]), array([1., 1., 1., ..., 1., 1., 1.]), array([1., 1., 1., ..., 1., 1., 1.]), array([1., 1., 1., ..., 1., 1., 1.]), array([0., 0., 0., ..., 0., 0., 0.]), array([1., 1., 1., ..., 0., 0., 0.]), array([0., 0., 0., ..., 0., 0., 0.]), array([1., 1., 1., ..., 0., 0., 0.]), array([0.63921569, 0.01960784, 0.23921569, ..., 1.        , 1.        ,\n",
      "       1.        ]), array([1., 1., 1., ..., 1., 1., 1.]), array([0., 0., 0., ..., 0., 0., 0.]), array([1., 1., 1., ..., 1., 1., 1.]), array([0., 0., 0., ..., 0., 0., 0.]), array([1., 1., 1., ..., 1., 1., 1.]), array([1., 1., 1., ..., 0., 0., 0.]), array([1., 1., 1., ..., 0., 0., 0.]), array([1., 1., 1., ..., 1., 1., 1.]), array([0., 0., 0., ..., 0., 0., 0.]), array([0., 0., 0., ..., 0., 0., 0.]), array([1., 1., 1., ..., 1., 1., 1.]), array([0., 0., 0., ..., 0., 0., 0.]), array([1., 1., 1., ..., 1., 1., 1.]), array([0., 0., 0., ..., 0., 0., 0.]), array([0., 0., 0., ..., 0., 0., 0.]), array([1., 1., 1., ..., 1., 1., 1.]), array([1., 1., 1., ..., 1., 1., 1.]), array([1., 1., 1., ..., 1., 1., 1.]), array([0., 0., 0., ..., 0., 0., 0.]), array([1., 1., 1., ..., 1., 1., 1.]), array([0., 0., 0., ..., 0., 0., 0.]), array([0., 0., 0., ..., 1., 1., 1.]), array([1., 1., 1., ..., 1., 1., 1.]), array([0.        , 0.        , 0.        , ..., 0.23529412, 0.        ,\n",
      "       0.        ]), array([0., 0., 0., ..., 1., 1., 1.]), array([1., 1., 1., ..., 1., 1., 1.]), array([1., 1., 1., ..., 1., 1., 1.]), array([0.        , 0.        , 0.        , ..., 0.23529412, 0.        ,\n",
      "       0.        ]), array([1.        , 0.70588235, 0.        , ..., 1.        , 1.        ,\n",
      "       1.        ]), array([1., 1., 1., ..., 1., 1., 1.]), array([0., 0., 0., ..., 1., 1., 1.]), array([1.        , 0.89803922, 0.46666667, ..., 0.47843137, 0.28627451,\n",
      "       0.        ]), array([0., 0., 0., ..., 0., 0., 0.]), array([1., 1., 1., ..., 1., 1., 1.]), array([1., 1., 1., ..., 1., 1., 1.]), array([0., 0., 0., ..., 0., 0., 0.]), array([0., 0., 0., ..., 0., 0., 0.]), array([1., 1., 1., ..., 1., 1., 1.]), array([1., 1., 1., ..., 1., 1., 1.]), array([0., 0., 0., ..., 0., 0., 0.]), array([0., 0., 0., ..., 1., 1., 1.]), array([1., 1., 1., ..., 1., 1., 1.]), array([1., 1., 1., ..., 1., 1., 1.]), array([1., 1., 1., ..., 1., 1., 1.]), array([1., 1., 1., ..., 1., 1., 1.]), array([0., 0., 0., ..., 0., 0., 0.]), array([0., 0., 0., ..., 0., 0., 0.]), array([1., 1., 1., ..., 1., 1., 1.]), array([0., 0., 0., ..., 0., 0., 0.]), array([0., 0., 0., ..., 1., 1., 1.]), array([1., 1., 1., ..., 0., 0., 0.]), array([0., 0., 0., ..., 0., 0., 0.]), array([1., 1., 1., ..., 1., 1., 1.]), array([0., 0., 0., ..., 1., 1., 1.]), array([1., 1., 1., ..., 1., 1., 1.]), array([1., 1., 1., ..., 0., 0., 0.]), array([0., 0., 0., ..., 0., 0., 0.]), array([1., 1., 1., ..., 1., 1., 1.]), array([0., 0., 0., ..., 0., 0., 0.]), array([0.        , 0.        , 0.        , ..., 0.77647059, 1.        ,\n",
      "       0.        ]), array([1., 1., 1., ..., 1., 1., 1.]), array([0., 0., 0., ..., 0., 0., 0.]), array([0., 0., 0., ..., 1., 1., 1.]), array([1., 1., 1., ..., 1., 1., 1.]), array([0., 0., 0., ..., 1., 1., 1.]), array([1., 1., 1., ..., 1., 1., 1.]), array([0.        , 0.        , 0.        , ..., 1.        , 0.70588235,\n",
      "       0.26666667]), array([0., 0., 0., ..., 1., 1., 1.]), array([1., 1., 1., ..., 1., 1., 1.]), array([0., 0., 0., ..., 0., 0., 0.]), array([1., 1., 1., ..., 0., 0., 0.]), array([0.        , 0.        , 0.        , ..., 0.71372549, 1.        ,\n",
      "       1.        ]), array([0., 0., 0., ..., 1., 1., 1.]), array([0., 0., 0., ..., 1., 1., 1.]), array([1.        , 1.        , 1.        , ..., 0.52941176, 0.71764706,\n",
      "       1.        ]), array([1., 1., 1., ..., 1., 1., 1.]), array([1., 1., 1., ..., 1., 1., 1.]), array([0., 0., 0., ..., 0., 0., 0.]), array([1., 1., 1., ..., 1., 1., 1.]), array([0., 0., 0., ..., 0., 0., 0.]), array([0., 0., 0., ..., 1., 1., 1.]), array([0., 0., 0., ..., 1., 1., 1.]), array([0., 0., 0., ..., 0., 0., 0.]), array([0., 0., 0., ..., 0., 0., 0.]), array([1., 1., 1., ..., 0., 0., 0.]), array([0., 0., 0., ..., 1., 1., 1.]), array([0., 0., 0., ..., 1., 1., 1.]), array([0., 0., 0., ..., 0., 0., 0.]), array([0.        , 0.        , 0.        , ..., 0.71372549, 1.        ,\n",
      "       1.        ]), array([1., 1., 1., ..., 1., 1., 1.]), array([0., 0., 0., ..., 0., 0., 0.]), array([0., 0., 0., ..., 0., 0., 0.]), array([1., 1., 1., ..., 1., 1., 1.]), array([1., 1., 1., ..., 1., 1., 1.]), array([1.        , 1.        , 1.        , ..., 0.92156863, 1.        ,\n",
      "       1.        ]), array([1., 1., 1., ..., 0., 0., 0.]), array([0., 0., 0., ..., 0., 0., 0.]), array([1., 1., 1., ..., 1., 1., 1.]), array([0., 0., 0., ..., 0., 0., 0.]), array([1., 1., 1., ..., 1., 1., 1.]), array([0., 0., 0., ..., 0., 0., 0.]), array([0., 0., 0., ..., 0., 0., 0.]), array([0., 0., 0., ..., 0., 1., 1.]), array([1., 1., 1., ..., 0., 0., 0.]), array([0., 0., 0., ..., 0., 0., 0.]), array([1., 1., 1., ..., 1., 1., 1.]), array([0., 0., 0., ..., 0., 0., 0.]), array([1., 1., 1., ..., 1., 1., 1.]), array([0., 0., 0., ..., 0., 0., 0.]), array([1., 1., 1., ..., 1., 1., 1.]), array([1., 1., 1., ..., 0., 1., 0.]), array([0., 0., 0., ..., 0., 1., 1.]), array([1., 1., 1., ..., 1., 1., 1.]), array([0., 0., 0., ..., 0., 0., 0.]), array([0., 0., 0., ..., 0., 1., 1.]), array([0.74509804, 0.        , 0.        , ..., 0.06666667, 0.        ,\n",
      "       1.        ]), array([1., 1., 1., ..., 0., 1., 0.]), array([1., 1., 1., ..., 1., 1., 1.]), array([0.74509804, 0.        , 0.        , ..., 0.06666667, 0.        ,\n",
      "       1.        ]), array([1., 1., 1., ..., 0., 1., 0.]), array([1., 1., 1., ..., 1., 1., 1.]), array([1., 1., 1., ..., 1., 1., 1.]), array([1., 1., 1., ..., 1., 1., 1.]), array([1., 1., 1., ..., 1., 1., 1.]), array([0.        , 0.        , 0.        , ..., 0.        , 0.18431373,\n",
      "       0.20784314]), array([0., 0., 0., ..., 0., 0., 0.]), array([0., 0., 0., ..., 0., 0., 0.]), array([0.        , 0.        , 0.        , ..., 0.        , 0.18431373,\n",
      "       0.20784314]), array([0.        , 0.28235294, 0.        , ..., 0.        , 0.        ,\n",
      "       0.        ]), array([0., 0., 0., ..., 0., 0., 0.]), array([0., 0., 0., ..., 0., 0., 0.]), array([0.        , 0.28235294, 0.        , ..., 0.        , 0.        ,\n",
      "       0.        ]), array([0., 0., 0., ..., 0., 0., 0.]), array([0.        , 0.        , 0.        , ..., 0.        , 0.18431373,\n",
      "       0.20784314]), array([0., 0., 0., ..., 0., 0., 0.]), array([0.        , 0.28235294, 0.        , ..., 0.        , 0.        ,\n",
      "       0.        ]), array([1., 1., 1., ..., 0., 0., 0.]), array([0.        , 0.        , 0.        , ..., 0.        , 0.18431373,\n",
      "       0.20784314]), array([0., 0., 0., ..., 0., 0., 0.]), array([0., 0., 0., ..., 0., 0., 0.]), array([0., 0., 0., ..., 0., 0., 0.]), array([0., 0., 0., ..., 0., 0., 0.]), array([0., 0., 0., ..., 1., 1., 1.]), array([0.        , 0.28235294, 0.        , ..., 0.        , 0.        ,\n",
      "       0.        ]), array([1., 1., 1., ..., 1., 1., 1.]), array([1., 1., 1., ..., 0., 0., 0.]), array([1., 1., 1., ..., 1., 1., 1.]), array([0., 0., 0., ..., 0., 0., 0.]), array([1., 1., 1., ..., 1., 1., 1.]), array([1., 1., 1., ..., 0., 0., 0.]), array([1., 1., 1., ..., 1., 1., 1.]), array([1., 1., 1., ..., 0., 0., 0.]), array([0., 0., 0., ..., 0., 0., 0.]), array([1., 1., 1., ..., 0., 0., 0.]), array([1., 1., 1., ..., 1., 1., 1.]), array([1., 1., 1., ..., 1., 1., 1.]), array([1., 1., 1., ..., 1., 1., 1.]), array([1., 1., 1., ..., 1., 1., 1.]), array([1., 1., 1., ..., 1., 1., 1.]), array([1., 1., 1., ..., 1., 1., 1.]), array([1., 1., 1., ..., 0., 1., 0.]), array([1., 1., 1., ..., 0., 0., 0.]), array([1., 1., 1., ..., 1., 1., 1.]), array([1., 1., 1., ..., 1., 1., 1.]), array([0., 0., 0., ..., 0., 0., 0.]), array([0., 0., 0., ..., 0., 0., 0.]), array([1., 1., 1., ..., 1., 1., 1.]), array([1., 1., 1., ..., 1., 1., 1.]), array([1., 1., 1., ..., 1., 1., 1.]), array([1., 1., 1., ..., 1., 1., 1.]), array([0., 0., 0., ..., 0., 0., 0.]), array([0., 0., 0., ..., 1., 1., 1.]), array([0., 0., 0., ..., 1., 1., 1.]), array([1., 1., 1., ..., 1., 1., 1.]), array([0., 0., 0., ..., 1., 1., 1.]), array([1., 1., 1., ..., 1., 1., 1.]), array([1., 1., 1., ..., 1., 1., 1.]), array([0., 0., 0., ..., 0., 0., 0.]), array([1.        , 0.83529412, 0.0627451 , ..., 1.        , 1.        ,\n",
      "       1.        ]), array([0.52941176, 1.        , 1.        , ..., 0.76470588, 0.        ,\n",
      "       1.        ]), array([0., 0., 0., ..., 0., 0., 0.]), array([0., 0., 0., ..., 0., 0., 0.]), array([0., 0., 0., ..., 0., 0., 0.]), array([1., 1., 1., ..., 1., 1., 1.]), array([0., 0., 0., ..., 0., 0., 0.]), array([0., 0., 0., ..., 0., 0., 0.]), array([1., 0., 0., ..., 0., 0., 0.]), array([1., 1., 1., ..., 1., 1., 1.]), array([1., 1., 1., ..., 0., 0., 0.]), array([1., 1., 1., ..., 0., 0., 0.]), array([1., 1., 1., ..., 1., 1., 1.]), array([1., 1., 1., ..., 0., 0., 0.]), array([1., 1., 1., ..., 1., 1., 1.]), array([1., 1., 1., ..., 0., 0., 0.]), array([1., 1., 1., ..., 0., 0., 0.]), array([1., 1., 1., ..., 1., 1., 1.]), array([1., 1., 1., ..., 1., 1., 1.]), array([1., 1., 1., ..., 1., 1., 1.]), array([1., 1., 1., ..., 1., 1., 1.]), array([1., 1., 1., ..., 1., 1., 1.]), array([1., 1., 1., ..., 1., 1., 1.]), array([1.        , 1.        , 1.        , ..., 0.        , 1.        ,\n",
      "       0.62352941]), array([1., 1., 1., ..., 1., 1., 1.]), array([1., 1., 1., ..., 1., 1., 1.]), array([1., 1., 1., ..., 1., 1., 1.]), array([1., 1., 1., ..., 0., 0., 0.]), array([1., 1., 1., ..., 1., 1., 1.]), array([1., 1., 1., ..., 1., 1., 1.]), array([1., 1., 1., ..., 1., 1., 1.]), array([1., 1., 1., ..., 1., 1., 1.]), array([1., 1., 1., ..., 0., 0., 0.]), array([0.84313725, 0.        , 0.        , ..., 1.        , 1.        ,\n",
      "       1.        ]), array([1., 1., 1., ..., 1., 1., 1.]), array([0.84313725, 0.        , 0.        , ..., 1.        , 1.        ,\n",
      "       1.        ]), array([0., 0., 0., ..., 0., 0., 0.]), array([1., 1., 1., ..., 0., 0., 0.]), array([0.50196078, 1.        , 0.        , ..., 1.        , 1.        ,\n",
      "       1.        ]), array([1., 1., 1., ..., 1., 1., 1.]), array([1., 1., 1., ..., 1., 1., 1.]), array([1., 1., 1., ..., 1., 1., 1.]), array([0.        , 0.        , 0.        , ..., 0.        , 0.80784314,\n",
      "       0.        ]), array([1., 1., 1., ..., 0., 0., 0.]), array([1., 1., 1., ..., 1., 1., 1.]), array([1., 1., 1., ..., 1., 1., 1.]), array([1., 1., 1., ..., 1., 1., 1.]), array([1., 1., 1., ..., 0., 0., 0.]), array([1., 1., 1., ..., 1., 1., 1.]), array([1., 1., 1., ..., 1., 1., 1.]), array([0., 0., 0., ..., 0., 0., 0.]), array([0., 0., 0., ..., 0., 0., 0.]), array([0., 0., 0., ..., 0., 0., 0.]), array([1., 1., 1., ..., 0., 0., 0.]), array([0.76862745, 0.2745098 , 1.        , ..., 1.        , 1.        ,\n",
      "       1.        ]), array([0.50196078, 1.        , 0.        , ..., 1.        , 1.        ,\n",
      "       1.        ]), array([0., 0., 0., ..., 1., 1., 1.]), array([0., 0., 0., ..., 0., 0., 0.]), array([1., 1., 1., ..., 1., 1., 1.]), array([1., 1., 1., ..., 1., 1., 1.]), array([0., 0., 0., ..., 1., 1., 1.]), array([0., 0., 0., ..., 0., 0., 0.]), array([0., 0., 0., ..., 0., 0., 0.]), array([0., 0., 0., ..., 0., 0., 0.]), array([0., 0., 0., ..., 0., 0., 0.]), array([0., 0., 0., ..., 0., 0., 0.]), array([0., 0., 0., ..., 0., 0., 0.]), array([0., 0., 0., ..., 0., 0., 0.]), array([1.        , 1.        , 1.        , ..., 0.18823529, 1.        ,\n",
      "       1.        ]), array([1., 1., 1., ..., 1., 1., 1.]), array([1.        , 1.        , 1.        , ..., 0.        , 0.03529412,\n",
      "       0.01176471]), array([0., 0., 0., ..., 0., 0., 0.]), array([0., 0., 0., ..., 0., 0., 0.]), array([0.10196078, 0.        , 0.45098039, ..., 0.        , 0.        ,\n",
      "       0.        ]), array([1., 1., 1., ..., 0., 0., 0.]), array([0., 0., 0., ..., 0., 0., 0.]), array([0., 0., 0., ..., 0., 0., 0.]), array([0.55686275, 0.        , 0.        , ..., 0.        , 0.        ,\n",
      "       0.49411765]), array([1., 1., 1., ..., 0., 0., 0.]), array([0., 0., 0., ..., 0., 0., 0.]), array([1., 0., 1., ..., 0., 0., 0.]), array([1., 1., 0., ..., 0., 0., 0.]), array([1., 1., 1., ..., 1., 1., 1.]), array([0.10196078, 0.        , 0.45098039, ..., 0.        , 0.        ,\n",
      "       0.        ]), array([1.        , 1.        , 1.        , ..., 0.18823529, 1.        ,\n",
      "       1.        ]), array([1., 1., 1., ..., 1., 1., 1.]), array([1., 1., 1., ..., 1., 1., 1.]), array([1., 1., 1., ..., 0., 0., 0.]), array([0., 0., 0., ..., 0., 0., 0.]), array([1., 1., 1., ..., 1., 1., 1.]), array([1., 1., 1., ..., 1., 1., 1.]), array([1., 1., 1., ..., 1., 1., 1.]), array([0.55686275, 0.        , 0.        , ..., 0.        , 0.        ,\n",
      "       0.49411765]), array([1., 1., 1., ..., 1., 1., 1.]), array([1., 1., 1., ..., 1., 1., 1.]), array([1., 1., 1., ..., 1., 1., 1.]), array([0., 0., 0., ..., 0., 0., 0.]), array([0., 0., 0., ..., 1., 1., 1.]), array([1., 1., 1., ..., 1., 1., 1.]), array([0., 0., 0., ..., 1., 1., 1.]), array([0., 0., 0., ..., 1., 1., 1.]), array([0., 0., 0., ..., 0., 0., 0.]), array([1., 1., 1., ..., 1., 1., 1.]), array([1., 1., 1., ..., 1., 1., 1.]), array([0., 0., 1., ..., 0., 0., 0.]), array([1.        , 1.        , 1.        , ..., 1.        , 0.        ,\n",
      "       0.42352941]), array([1.        , 1.        , 1.        , ..., 0.9372549 , 0.01568627,\n",
      "       0.01960784]), array([0., 0., 0., ..., 1., 1., 1.]), array([0., 0., 0., ..., 0., 0., 0.]), array([0., 0., 0., ..., 1., 1., 1.]), array([1., 1., 1., ..., 1., 1., 1.]), array([0., 0., 0., ..., 1., 1., 1.]), array([0., 0., 0., ..., 0., 0., 0.]), array([0., 0., 0., ..., 0., 0., 0.]), array([0., 0., 0., ..., 1., 1., 1.]), array([0., 0., 0., ..., 0., 0., 0.]), array([0., 0., 0., ..., 1., 1., 1.]), array([1., 1., 1., ..., 1., 1., 1.]), array([1., 1., 1., ..., 1., 1., 1.]), array([1.        , 1.        , 1.        , ..., 1.        , 0.98823529,\n",
      "       1.        ]), array([1., 1., 1., ..., 1., 1., 1.]), array([1., 1., 1., ..., 0., 0., 0.]), array([1., 1., 1., ..., 1., 1., 1.]), array([0., 0., 0., ..., 1., 1., 1.]), array([0., 0., 0., ..., 0., 0., 0.]), array([1., 1., 1., ..., 0., 0., 0.]), array([1., 1., 1., ..., 1., 1., 1.]), array([1.        , 1.        , 1.        , ..., 0.05882353, 0.        ,\n",
      "       0.03137255]), array([1., 1., 1., ..., 1., 1., 1.]), array([1., 1., 1., ..., 0., 0., 0.]), array([0., 0., 0., ..., 0., 0., 0.]), array([1., 1., 1., ..., 1., 1., 1.]), array([1., 1., 1., ..., 1., 1., 1.]), array([1., 1., 1., ..., 1., 1., 1.]), array([1.        , 1.        , 1.        , ..., 0.05882353, 0.        ,\n",
      "       0.03137255]), array([0., 0., 0., ..., 0., 0., 0.]), array([1., 0., 1., ..., 0., 0., 0.]), array([1., 1., 1., ..., 1., 1., 1.]), array([0., 0., 0., ..., 0., 0., 0.]), array([0., 0., 0., ..., 1., 1., 1.]), array([1., 1., 1., ..., 0., 0., 0.]), array([0., 0., 0., ..., 0., 0., 0.]), array([0., 0., 0., ..., 1., 1., 1.]), array([1., 1., 1., ..., 0., 0., 0.]), array([1., 1., 1., ..., 1., 1., 1.]), array([0.62352941, 0.62352941, 0.62352941, ..., 0.        , 0.        ,\n",
      "       0.        ]), array([1., 1., 1., ..., 0., 0., 0.]), array([1., 1., 0., ..., 1., 1., 1.]), array([1., 1., 1., ..., 0., 0., 0.]), array([1., 0., 1., ..., 0., 0., 0.]), array([0., 0., 0., ..., 0., 0., 0.]), array([0., 0., 0., ..., 0., 0., 0.]), array([0., 0., 0., ..., 0., 0., 0.]), array([1., 1., 1., ..., 0., 0., 0.]), array([1., 1., 1., ..., 1., 1., 1.]), array([1., 1., 1., ..., 1., 1., 1.]), array([0., 0., 0., ..., 0., 0., 0.]), array([0., 0., 0., ..., 0., 0., 0.]), array([0., 0., 0., ..., 1., 1., 1.]), array([1., 1., 1., ..., 0., 0., 0.]), array([1.       , 1.       , 1.       , ..., 0.       , 0.       ,\n",
      "       0.6745098]), array([0., 0., 0., ..., 0., 0., 0.]), array([0., 0., 0., ..., 0., 0., 0.]), array([0., 0., 0., ..., 0., 0., 0.]), array([0., 0., 0., ..., 0., 0., 0.]), array([0., 0., 0., ..., 0., 0., 0.]), array([1., 1., 1., ..., 1., 1., 1.]), array([0.        , 0.        , 0.        , ..., 0.34509804, 0.39215686,\n",
      "       1.        ]), array([0., 0., 0., ..., 0., 0., 0.]), array([0., 0., 0., ..., 0., 0., 0.]), array([1., 1., 1., ..., 0., 0., 0.]), array([0., 0., 0., ..., 0., 0., 0.]), array([0., 0., 0., ..., 0., 0., 0.]), array([0., 0., 0., ..., 0., 0., 0.]), array([0., 0., 0., ..., 0., 0., 0.]), array([1., 1., 0., ..., 1., 1., 1.]), array([0., 0., 0., ..., 0., 0., 0.]), array([1., 1., 1., ..., 1., 1., 1.]), array([0., 0., 0., ..., 0., 0., 0.]), array([0., 0., 0., ..., 0., 0., 0.]), array([0., 0., 0., ..., 1., 1., 1.]), array([0., 0., 0., ..., 0., 0., 0.]), array([0., 0., 0., ..., 1., 1., 1.]), array([0., 0., 0., ..., 0., 0., 0.]), array([0., 0., 0., ..., 0., 0., 0.]), array([0., 0., 0., ..., 1., 1., 1.]), array([0., 0., 0., ..., 1., 1., 1.]), array([0., 0., 0., ..., 0., 0., 0.]), array([1.        , 0.65490196, 0.        , ..., 0.        , 0.        ,\n",
      "       0.        ]), array([0., 0., 0., ..., 0., 0., 0.]), array([0.        , 0.        , 0.        , ..., 1.        , 0.83921569,\n",
      "       1.        ]), array([0., 0., 0., ..., 0., 0., 0.]), array([0., 0., 0., ..., 0., 0., 0.]), array([1., 1., 1., ..., 0., 0., 0.]), array([0.48627451, 0.        , 0.        , ..., 0.9372549 , 0.        ,\n",
      "       0.18431373]), array([0.30588235, 0.        , 0.        , ..., 1.        , 0.        ,\n",
      "       0.18431373]), array([0., 0., 0., ..., 0., 0., 0.]), array([1., 1., 1., ..., 1., 1., 1.]), array([0., 0., 0., ..., 0., 0., 0.]), array([1., 1., 1., ..., 0., 0., 0.]), array([0., 0., 0., ..., 0., 0., 0.]), array([0. , 0.4, 0. , ..., 0. , 0. , 0. ]), array([1., 1., 1., ..., 0., 0., 0.]), array([0., 0., 0., ..., 0., 0., 0.]), array([1., 1., 1., ..., 1., 1., 1.]), array([1., 1., 1., ..., 0., 0., 0.]), array([1.        , 1.        , 1.        , ..., 0.        , 0.50196078,\n",
      "       1.        ]), array([1.        , 1.        , 1.        , ..., 0.        , 0.50196078,\n",
      "       1.        ]), array([1.        , 1.        , 1.        , ..., 0.57647059, 0.57647059,\n",
      "       0.24313725]), array([0., 0., 0., ..., 0., 0., 0.]), array([0.50196078, 0.50196078, 1.        , ..., 1.        , 1.        ,\n",
      "       1.        ]), array([0., 0., 0., ..., 0., 0., 0.]), array([0., 0., 0., ..., 0., 0., 0.]), array([0., 0., 0., ..., 0., 0., 0.]), array([0.        , 0.        , 0.        , ..., 1.        , 0.92156863,\n",
      "       0.10196078]), array([0.        , 0.        , 0.        , ..., 0.01568627, 1.        ,\n",
      "       0.07843137]), array([1., 1., 1., ..., 0., 0., 0.]), array([0., 0., 0., ..., 0., 0., 0.]), array([0., 0., 0., ..., 1., 1., 1.]), array([1.        , 1.        , 0.89803922, ..., 1.        , 1.        ,\n",
      "       1.        ]), array([1., 1., 1., ..., 1., 1., 1.]), array([1., 1., 1., ..., 0., 0., 0.]), array([1.        , 1.        , 1.        , ..., 1.        , 0.44705882,\n",
      "       0.        ]), array([0., 0., 0., ..., 0., 0., 0.]), array([0., 0., 0., ..., 0., 0., 0.]), array([0., 0., 0., ..., 0., 0., 0.]), array([1., 1., 1., ..., 0., 0., 0.]), array([0., 0., 0., ..., 1., 1., 1.]), array([0., 0., 0., ..., 0., 0., 0.]), array([0., 0., 0., ..., 0., 0., 0.]), array([0., 0., 0., ..., 0., 0., 0.]), array([1., 1., 1., ..., 0., 0., 0.]), array([1.        , 1.        , 0.89803922, ..., 1.        , 1.        ,\n",
      "       1.        ]), array([1.        , 0.20784314, 0.        , ..., 0.        , 0.        ,\n",
      "       0.        ]), array([0., 0., 0., ..., 0., 0., 0.]), array([0., 0., 0., ..., 1., 1., 1.]), array([0., 0., 0., ..., 1., 1., 1.]), array([0., 0., 0., ..., 0., 0., 0.]), array([0.89803922, 1.        , 1.        , ..., 0.        , 0.        ,\n",
      "       0.        ]), array([0., 0., 0., ..., 1., 1., 1.]), array([1., 1., 1., ..., 1., 1., 1.]), array([0.        , 1.        , 0.41176471, ..., 0.        , 0.        ,\n",
      "       0.        ]), array([0., 0., 0., ..., 0., 0., 0.]), array([1., 1., 1., ..., 1., 1., 1.]), array([0., 0., 0., ..., 0., 0., 0.]), array([0.       , 0.       , 0.       , ..., 0.0627451, 1.       ,\n",
      "       1.       ]), array([0., 0., 0., ..., 1., 1., 1.]), array([0., 0., 0., ..., 0., 0., 0.]), array([0., 0., 0., ..., 0., 0., 0.]), array([1., 1., 1., ..., 1., 1., 1.]), array([1., 1., 1., ..., 1., 1., 1.]), array([0., 0., 0., ..., 0., 0., 0.]), array([0., 0., 0., ..., 0., 0., 0.]), array([0.       , 0.       , 0.       , ..., 0.0627451, 1.       ,\n",
      "       1.       ]), array([0., 0., 0., ..., 0., 0., 0.]), array([0., 0., 0., ..., 1., 1., 1.]), array([0., 0., 0., ..., 1., 1., 1.]), array([0., 0., 0., ..., 0., 0., 0.]), array([1., 1., 1., ..., 1., 1., 1.]), array([0., 0., 0., ..., 0., 0., 0.]), array([0., 0., 0., ..., 0., 0., 0.]), array([0., 0., 0., ..., 0., 0., 0.]), array([0., 0., 0., ..., 0., 0., 0.]), array([0., 0., 0., ..., 0., 0., 0.]), array([0., 0., 0., ..., 1., 1., 1.])]\n"
     ]
    }
   ],
   "source": [
    "print(images_vectorized)"
   ]
  },
  {
   "cell_type": "code",
   "execution_count": 63,
   "metadata": {},
   "outputs": [],
   "source": [
    "# Find best parameters combination for SVC model using bruteforce method\n",
    "def SVC_model(X, y):\n",
    "    svc_model = SVC()\n",
    "    \n",
    "    # Test C and gamma parameters to find best combination\n",
    "    parameter_options = {'C':[1,10,100],'gamma':[0.001,0.005,0.01]}\n",
    "    clf = GridSearchCV(svc_model, parameter_options, n_jobs=-1, cv=2)\n",
    "    \n",
    "    # Search for the best parameters\n",
    "    clf.fit(X, y)\n",
    "    #print(\"Best parameter combination: \", clf.best_params_)\n",
    "    return clf.best_estimator_"
   ]
  },
  {
   "cell_type": "code",
   "execution_count": 64,
   "metadata": {},
   "outputs": [],
   "source": [
    "def PCA_Accuracy(X, y):\n",
    "\n",
    "    # Split data into train and test\n",
    "    X_train, X_test, y_train, y_test = train_test_split(X, y)\n",
    "    \n",
    "    # Reduce to 16 components\n",
    "    pca_model = PCA(n_components = 16)\n",
    "    pca_model.fit(X_train)\n",
    "    reduced_X_train = pca_model.transform(X_train)\n",
    "    reduced_X_test = pca_model.transform(X_test)\n",
    "    \n",
    "    svc_model = SVC_model(reduced_X_train, y_train)\n",
    "    pred = svc_model.predict(reduced_X_test)\n",
    "    \n",
    "    return np.asarray([svc_model, accuracy_score(y_test, pred)])"
   ]
  },
  {
   "cell_type": "code",
   "execution_count": 65,
   "metadata": {},
   "outputs": [
    {
     "name": "stdout",
     "output_type": "stream",
     "text": [
      "[1. 0. 0. 0. 0. 0. 0. 0. 0. 0. 0. 0. 0. 0. 0. 0. 0. 0. 0. 0. 0. 0. 0. 0.\n",
      " 0. 0. 0. 0. 0. 0. 0.]\n"
     ]
    }
   ],
   "source": [
    "labels_1hot = np_utils.to_categorical(labels)\n",
    "print(labels_1hot[1])"
   ]
  },
  {
   "cell_type": "code",
   "execution_count": 69,
   "metadata": {},
   "outputs": [
    {
     "data": {
      "image/png": "[encoded data removed]",
      "text/plain": [
       "<Figure size 432x288 with 1 Axes>"
      ]
     },
     "metadata": {
      "needs_background": "light"
     },
     "output_type": "display_data"
    }
   ],
   "source": [
    "labels_1D = labels.flatten()\n",
    "\n",
    "scores = []\n",
    "for i in range(20):\n",
    "    accuracy_score_images = PCA_Accuracy(images_vectorized, labels_1D)\n",
    "    scores.append(accuracy_score_images[1])\n",
    "plt.plot(scores)\n",
    "plt.title('Model accuracy')\n",
    "plt.ylabel('Accuracy')\n",
    "plt.xlabel('Epoch')\n",
    "plt.yticks(np.arange(0, 1.5, .1))\n",
    "plt.legend(['Train', 'Val'], loc='upper left')\n",
    "plt.show()\n"
   ]
  },
  {
   "cell_type": "code",
   "execution_count": null,
   "metadata": {},
   "outputs": [],
   "source": []
  }
 ],
 "metadata": {
  "kernelspec": {
   "display_name": "Python 3",
   "language": "python",
   "name": "python3"
  },
  "language_info": {
   "codemirror_mode": {
    "name": "ipython",
    "version": 3
   },
   "file_extension": ".py",
   "mimetype": "text/x-python",
   "name": "python",
   "nbconvert_exporter": "python",
   "pygments_lexer": "ipython3",
   "version": "3.8.8"
  }
 },
 "nbformat": 4,
 "nbformat_minor": 2
}
