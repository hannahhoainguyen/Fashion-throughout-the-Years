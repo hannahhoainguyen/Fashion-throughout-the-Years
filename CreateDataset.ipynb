{
 "cells": [
  {
   "cell_type": "code",
   "execution_count": 4,
   "metadata": {},
   "outputs": [],
   "source": [
    "#importing the libraries\n",
    "import os \n",
    "import cv2\n",
    "import numpy as np\n",
    "from skimage import io\n",
    "import matplotlib.pyplot as plt\n",
    "%matplotlib inline"
   ]
  },
  {
   "cell_type": "code",
   "execution_count": 126,
   "metadata": {},
   "outputs": [],
   "source": [
    "\n",
    "file_path = 'C:/Users/Halina/Documents/GitHub/Fashion-throughout-the-Years/images'\n",
    "\n",
    "data = []\n",
    "        \n",
    "for root, dirs, files in os.walk(file_path):\n",
    "    #path = os.path.join(root)\n",
    "    path = str(root).replace(str(chr(92)), \"/\")\n",
    "    if (path.split(\"/\")[-1]!='images'):\n",
    "        #print(path)\n",
    "        for img in os.listdir(path):\n",
    "            #print(os.path.join(path,img))\n",
    "            pic = cv2.imread(os.path.join(path,img))\n",
    "            pic = cv2.cvtColor(pic,cv2.COLOR_BGR2RGB)\n",
    "            pic = cv2.resize(pic,(80,80))\n",
    "            data.append(pic)\n",
    "        "
   ]
  },
  {
   "cell_type": "code",
   "execution_count": 127,
   "metadata": {},
   "outputs": [
    {
     "name": "stdout",
     "output_type": "stream",
     "text": [
      "[[[ 24  13   9]\n",
      "  [ 22  11   7]\n",
      "  [ 25  14  10]\n",
      "  ...\n",
      "  [ 28  13  10]\n",
      "  [ 29  13  13]\n",
      "  [ 27  11  11]]\n",
      "\n",
      " [[ 21  10   6]\n",
      "  [ 22  11   7]\n",
      "  [ 24  13   9]\n",
      "  ...\n",
      "  [ 28  13  10]\n",
      "  [ 27  11  11]\n",
      "  [ 28  12  12]]\n",
      "\n",
      " [[ 24  13   9]\n",
      "  [ 24  13   9]\n",
      "  [ 22  11   7]\n",
      "  ...\n",
      "  [ 29  14  11]\n",
      "  [ 28  12  12]\n",
      "  [ 26  10  10]]\n",
      "\n",
      " ...\n",
      "\n",
      " [[ 97  84  71]\n",
      "  [ 93  80  66]\n",
      "  [ 93  81  67]\n",
      "  ...\n",
      "  [ 54  40  39]\n",
      "  [ 52  38  37]\n",
      "  [ 54  40  39]]\n",
      "\n",
      " [[108 101  83]\n",
      "  [110 103  85]\n",
      "  [112 103  86]\n",
      "  ...\n",
      "  [ 68  57  53]\n",
      "  [ 66  55  53]\n",
      "  [ 71  60  58]]\n",
      "\n",
      " [[122 115  97]\n",
      "  [121 114  96]\n",
      "  [120 113  95]\n",
      "  ...\n",
      "  [100  91  84]\n",
      "  [102  93  86]\n",
      "  [ 97  88  81]]]\n"
     ]
    }
   ],
   "source": [
    "data = np.asarray(data)\n",
    "print(data[0])"
   ]
  },
  {
   "cell_type": "code",
   "execution_count": 119,
   "metadata": {},
   "outputs": [],
   "source": [
    "#loading the saved file once again\n",
    "#saved = np.load(os.path.join(path,'features.npy'))"
   ]
  },
  {
   "cell_type": "code",
   "execution_count": 128,
   "metadata": {},
   "outputs": [
    {
     "name": "stdout",
     "output_type": "stream",
     "text": [
      "(80, 80, 3)\n"
     ]
    }
   ],
   "source": [
    "print(data[0].shape)\n",
    "#plt.imshow(saved[0].reshape(80,80,3))\n",
    "#plt.imshow(np.array(training_data[0]).reshape(160, 160, 6))"
   ]
  },
  {
   "cell_type": "code",
   "execution_count": 130,
   "metadata": {},
   "outputs": [
    {
     "data": {
      "text/plain": [
       "<matplotlib.image.AxesImage at 0x21181451588>"
      ]
     },
     "execution_count": 130,
     "metadata": {},
     "output_type": "execute_result"
    },
    {
     "data": {
      "image/png": "[encoded data removed]",
      "text/plain": [
       "<Figure size 432x288 with 1 Axes>"
      ]
     },
     "metadata": {},
     "output_type": "display_data"
    }
   ],
   "source": [
    "plt.imshow(data[0].reshape(80, 80, 3))"
   ]
  },
  {
   "cell_type": "code",
   "execution_count": null,
   "metadata": {},
   "outputs": [],
   "source": []
  }
 ],
 "metadata": {
  "kernelspec": {
   "display_name": "Python 3",
   "language": "python",
   "name": "python3"
  },
  "language_info": {
   "codemirror_mode": {
    "name": "ipython",
    "version": 3
   },
   "file_extension": ".py",
   "mimetype": "text/x-python",
   "name": "python",
   "nbconvert_exporter": "python",
   "pygments_lexer": "ipython3",
   "version": "3.6.5"
  }
 },
 "nbformat": 4,
 "nbformat_minor": 2
}
