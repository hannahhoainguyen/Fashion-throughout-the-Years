{
 "cells": [
  {
   "cell_type": "markdown",
   "metadata": {},
   "source": [
    "# Final Project\n",
    "### Structure used like in tensorflow"
   ]
  },
  {
   "cell_type": "code",
   "execution_count": null,
   "metadata": {},
   "outputs": [],
   "source": [
    "########## CLASSIFYING CLOTHING #############"
   ]
  },
  {
   "cell_type": "code",
   "execution_count": 9,
   "metadata": {},
   "outputs": [],
   "source": [
    "#load modules needed\n",
    "#general models\n",
    "import numpy as np\n",
    "import pandas as pd\n",
    "import matplotlib.pyplot as plt\n",
    "\n",
    "\n",
    "#scikit learning modules\n",
    "\n",
    "#tensorflow modules\n",
    "import tensorflow as tf\n",
    "import os\n",
    "import PIL\n",
    "import PIL.Image\n",
    "import pathlib\n"
   ]
  },
  {
   "cell_type": "code",
   "execution_count": 31,
   "metadata": {},
   "outputs": [
    {
     "name": "stdout",
     "output_type": "stream",
     "text": [
      "C:\\Users\\Hannah PC\\.keras\\datasets\\images\n"
     ]
    }
   ],
   "source": [
    "#load datasets\n",
    "#image dataset\n",
    "ds_path = \"https://github.com/hannahhoainguyen/Fashion-throughout-the-Years/tree/master/images\"\n",
    "data_dir = tf.keras.utils.get_file(origin = ds_path, \n",
    "                                  fname = 'images',\n",
    "                                  untar = True)\n",
    "\n",
    "# data_dir = pathlib.Path(data_dir)\n",
    "# image_count = len(list(data_dir.glob('*/*.jpg')))\n",
    "# print(image_count)\n",
    "\n"
   ]
  },
  {
   "cell_type": "code",
   "execution_count": null,
   "metadata": {},
   "outputs": [],
   "source": [
    "#tests for dataset\n",
    "#visualize 5 photos from the dataset, plt\n",
    "\n",
    "#verify dataset, test to see if its all there"
   ]
  },
  {
   "cell_type": "code",
   "execution_count": null,
   "metadata": {},
   "outputs": [],
   "source": [
    "#split dataset"
   ]
  },
  {
   "cell_type": "code",
   "execution_count": 1,
   "metadata": {},
   "outputs": [],
   "source": [
    "#preprocess data\n",
    "#change values\n",
    "\n",
    "#display photos from traing set"
   ]
  },
  {
   "cell_type": "code",
   "execution_count": 1,
   "metadata": {},
   "outputs": [],
   "source": [
    "#build the model of the dataset\n",
    "#set up layers"
   ]
  },
  {
   "cell_type": "code",
   "execution_count": null,
   "metadata": {},
   "outputs": [],
   "source": [
    "#compile model"
   ]
  },
  {
   "cell_type": "code",
   "execution_count": null,
   "metadata": {},
   "outputs": [],
   "source": [
    "#train model\n",
    "#feed model \n",
    "\n",
    "#fit model\n",
    "\n",
    "#evaluate accuracy"
   ]
  },
  {
   "cell_type": "code",
   "execution_count": null,
   "metadata": {},
   "outputs": [],
   "source": [
    "################ CLASSIFYING END #################"
   ]
  },
  {
   "cell_type": "code",
   "execution_count": null,
   "metadata": {},
   "outputs": [],
   "source": [
    "################ PREDICTIONS ################"
   ]
  },
  {
   "cell_type": "code",
   "execution_count": null,
   "metadata": {},
   "outputs": [],
   "source": [
    "# have photos from data set spit out a random unique image that has\n",
    "#  elements from dataset (predict if past fashion can create new fashion)\n",
    "#compile images based on year input"
   ]
  },
  {
   "cell_type": "code",
   "execution_count": null,
   "metadata": {},
   "outputs": [],
   "source": [
    "#TEST:\n",
    "# have input be 2000-2020, since we know what kind of fashion was going on\n",
    "# have machine learn styles base on year going up\n",
    "#  - styles will hopefully take inspiration from one year to a next\n",
    "# output will be an image that shows a fashioned clothing"
   ]
  },
  {
   "cell_type": "code",
   "execution_count": null,
   "metadata": {},
   "outputs": [],
   "source": [
    "#make predictions\n",
    "\n",
    "#graph predictions"
   ]
  },
  {
   "cell_type": "code",
   "execution_count": null,
   "metadata": {},
   "outputs": [],
   "source": [
    "#verify predictions"
   ]
  },
  {
   "cell_type": "code",
   "execution_count": null,
   "metadata": {},
   "outputs": [],
   "source": [
    "#use trained model - endgame\n",
    "#input of year\n",
    "#output - image"
   ]
  }
 ],
 "metadata": {
  "kernelspec": {
   "display_name": "Python 3",
   "language": "python",
   "name": "python3"
  },
  "language_info": {
   "codemirror_mode": {
    "name": "ipython",
    "version": 3
   },
   "file_extension": ".py",
   "mimetype": "text/x-python",
   "name": "python",
   "nbconvert_exporter": "python",
   "pygments_lexer": "ipython3",
   "version": "3.8.3"
  }
 },
 "nbformat": 4,
 "nbformat_minor": 4
}
